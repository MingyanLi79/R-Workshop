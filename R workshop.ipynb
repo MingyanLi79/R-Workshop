{
 "cells": [
  {
   "cell_type": "markdown",
   "metadata": {
    "slideshow": {
     "slide_type": "slide"
    }
   },
   "source": [
    "# Introduction to R\n",
    "##### Statistical Consulting Center - University of North Carolina at Greensboro"
   ]
  },
  {
   "cell_type": "code",
   "execution_count": 10,
   "metadata": {
    "slideshow": {
     "slide_type": "skip"
    }
   },
   "outputs": [],
   "source": [
    "# imprting all the packages needed in this document\n",
    "# if using base libraries, there is no need to import it\n",
    "# library(ragged2e)\n",
    "library(IRdisplay)\n",
    "library(repr)\n",
    "\n",
    "# setting up size for images\n",
    "options(repr.plot.width=4, repr.plot.height=3)\n",
    "\n",
    "# setting working directory, to be easier to pull data files\n",
    "setwd(\"~/R Workshop/DatanImg\")"
   ]
  },
  {
   "cell_type": "markdown",
   "metadata": {
    "slideshow": {
     "slide_type": "slide"
    }
   },
   "source": [
    "## 1. R Programming Basics\n",
    "From <https://www.r-project.org/>\n",
    "\n",
    "R is an integrated suite of software facilities for data manipulation, calculation and graphical display. It includes\n",
    "\n",
    "- an effective data handling and storage facility\n",
    "- a suite of operators for calculations on arrays, in particular matrices\n",
    "- a large, coherent, integrated collection of intermediate tools for data analysis\n",
    "- graphical facilities for data analysis and display\n",
    "- a well-developed, simple and effective programming language which includes conditionals, loops, user-defined recursive  functions and in-out and out-out facilities.\n",
    "\n",
    "The term \"environment\" is intended to characterize it as a fully-planned and coherent system, rather than an incremental accretion of very specific and inflexible tools, as is frequently the case with other data analysis software."
   ]
  },
  {
   "cell_type": "markdown",
   "metadata": {
    "slideshow": {
     "slide_type": "slide"
    }
   },
   "source": [
    "Many users think of R as a statistics system. We prefer to think of it as an environment within which statistical techniques are implemented. R can be extended via packages. There are about eight packages supplied with the R distribution and many more are available through the CRAN family of internet sites, covering a very wide range of \"modern statistics\".\n",
    "\n",
    "In this workshop, we will learn the basics of using R for statistical analysis, including \n",
    "\n",
    "- Data file creation/acquisition\n",
    "\n",
    "- Data manipulation\n",
    "\n",
    "- Using supplied functions\n",
    "\n",
    "- Simple data analyses and graphics \n",
    "\n",
    "**We will only scratch the surface!**"
   ]
  },
  {
   "cell_type": "markdown",
   "metadata": {
    "slideshow": {
     "slide_type": "slide"
    }
   },
   "source": [
    "## 2. Setting up R"
   ]
  },
  {
   "cell_type": "markdown",
   "metadata": {
    "slideshow": {
     "slide_type": "slide"
    }
   },
   "source": [
    "### 2.1 Installing R"
   ]
  },
  {
   "cell_type": "markdown",
   "metadata": {},
   "source": [
    "The Base R and packages can be downloaded from the Comprehensive R Archive Network (CRAN) (<https://www.r-project.org/>)."
   ]
  },
  {
   "cell_type": "markdown",
   "metadata": {},
   "source": [
    "When you run the program, you will see the R console:"
   ]
  },
  {
   "cell_type": "markdown",
   "metadata": {},
   "source": [
    "![R Console](https://phonlab.sitehost.iu.edu/R/WebsiteImages/R%20upon%20open.PNG)"
   ]
  },
  {
   "cell_type": "code",
   "execution_count": 1,
   "metadata": {},
   "outputs": [],
   "source": [
    "# The normal image in Markdown language did not work here, so we need this function from \"IRdisplay\" package to print the image\n",
    "# display_png(file=\"RConsole.png\") "
   ]
  },
  {
   "cell_type": "markdown",
   "metadata": {},
   "source": [
    "### 2.2 R coding and syntax\n",
    "Commands are entered at the cursor (next to the \">\"). Unlike some other software environments that require a complete set of commands (i.e., a \"program\") be executed to perform a task, R runs interactively, and executes each command as it is entered. (For those used to writing programs in SAS or SPSS, for example, this can take some time getting used to).    \n",
    "\n",
    "For example, simple calculations can be executed:"
   ]
  },
  {
   "cell_type": "code",
   "execution_count": 26,
   "metadata": {},
   "outputs": [
    {
     "data": {
      "text/html": [
       "7"
      ],
      "text/latex": [
       "7"
      ],
      "text/markdown": [
       "7"
      ],
      "text/plain": [
       "[1] 7"
      ]
     },
     "metadata": {},
     "output_type": "display_data"
    }
   ],
   "source": [
    "2+5"
   ]
  },
  {
   "cell_type": "code",
   "execution_count": 15,
   "metadata": {},
   "outputs": [
    {
     "data": {
      "text/html": [
       "1.94591014905531"
      ],
      "text/latex": [
       "1.94591014905531"
      ],
      "text/markdown": [
       "1.94591014905531"
      ],
      "text/plain": [
       "[1] 1.94591"
      ]
     },
     "metadata": {},
     "output_type": "display_data"
    }
   ],
   "source": [
    "log(7)"
   ]
  },
  {
   "cell_type": "markdown",
   "metadata": {},
   "source": [
    "If the result of a calculation is to be used in further calculations, then assign the result to an object. Notice that the result of the calculation is not shown. However, executing the object name shows the answer."
   ]
  },
  {
   "cell_type": "code",
   "execution_count": 17,
   "metadata": {},
   "outputs": [],
   "source": [
    "a <- 2+5"
   ]
  },
  {
   "cell_type": "code",
   "execution_count": 18,
   "metadata": {},
   "outputs": [
    {
     "data": {
      "text/html": [
       "7"
      ],
      "text/latex": [
       "7"
      ],
      "text/markdown": [
       "7"
      ],
      "text/plain": [
       "[1] 7"
      ]
     },
     "metadata": {},
     "output_type": "display_data"
    }
   ],
   "source": [
    "a"
   ]
  },
  {
   "cell_type": "code",
   "execution_count": 19,
   "metadata": {},
   "outputs": [],
   "source": [
    "log.a<-log(a)"
   ]
  },
  {
   "cell_type": "code",
   "execution_count": 20,
   "metadata": {},
   "outputs": [
    {
     "data": {
      "text/html": [
       "1.94591014905531"
      ],
      "text/latex": [
       "1.94591014905531"
      ],
      "text/markdown": [
       "1.94591014905531"
      ],
      "text/plain": [
       "[1] 1.94591"
      ]
     },
     "metadata": {},
     "output_type": "display_data"
    }
   ],
   "source": [
    "log.a"
   ]
  },
  {
   "cell_type": "markdown",
   "metadata": {},
   "source": [
    "Consider the following series of commands (we will discuss these in more details later)."
   ]
  },
  {
   "cell_type": "code",
   "execution_count": 22,
   "metadata": {},
   "outputs": [
    {
     "data": {
      "text/html": [
       "<ol>\n",
       "\t<li><ol class=list-inline>\n",
       "\t<li>2</li>\n",
       "\t<li>5</li>\n",
       "\t<li>8</li>\n",
       "\t<li>9</li>\n",
       "\t<li>9</li>\n",
       "\t<li>10</li>\n",
       "\t<li>11</li>\n",
       "</ol>\n",
       "</li>\n",
       "</ol>\n"
      ],
      "text/latex": [
       "\\begin{enumerate}\n",
       "\\item \\begin{enumerate*}\n",
       "\\item 2\n",
       "\\item 5\n",
       "\\item 8\n",
       "\\item 9\n",
       "\\item 9\n",
       "\\item 10\n",
       "\\item 11\n",
       "\\end{enumerate*}\n",
       "\n",
       "\\end{enumerate}\n"
      ],
      "text/markdown": [
       "1. 1. 2\n",
       "2. 5\n",
       "3. 8\n",
       "4. 9\n",
       "5. 9\n",
       "6. 10\n",
       "7. 11\n",
       "\n",
       "\n",
       "\n",
       "\n",
       "\n"
      ],
      "text/plain": [
       "[[1]]\n",
       "[1]  2  5  8  9  9 10 11\n"
      ]
     },
     "metadata": {},
     "output_type": "display_data"
    }
   ],
   "source": [
    "Data <- c(2,5,8,9,9,10,11)\n",
    "list(Data)"
   ]
  },
  {
   "cell_type": "code",
   "execution_count": 23,
   "metadata": {},
   "outputs": [
    {
     "data": {
      "text/html": [
       "7.71428571428571"
      ],
      "text/latex": [
       "7.71428571428571"
      ],
      "text/markdown": [
       "7.71428571428571"
      ],
      "text/plain": [
       "[1] 7.714286"
      ]
     },
     "metadata": {},
     "output_type": "display_data"
    }
   ],
   "source": [
    "mean(Data)"
   ]
  },
  {
   "cell_type": "code",
   "execution_count": 24,
   "metadata": {},
   "outputs": [
    {
     "data": {
      "text/html": [
       "3.14718316987777"
      ],
      "text/latex": [
       "3.14718316987777"
      ],
      "text/markdown": [
       "3.14718316987777"
      ],
      "text/plain": [
       "[1] 3.147183"
      ]
     },
     "metadata": {},
     "output_type": "display_data"
    }
   ],
   "source": [
    "sd(Data)"
   ]
  },
  {
   "cell_type": "markdown",
   "metadata": {
    "slideshow": {
     "slide_type": "slide"
    }
   },
   "source": [
    "If you simply type the first command and hit enter, it seems nothing has happened as the cursor simply moves to the next line:"
   ]
  },
  {
   "cell_type": "code",
   "execution_count": 2,
   "metadata": {},
   "outputs": [],
   "source": [
    "Data <- c(2,5,8,9,9,10,11)"
   ]
  },
  {
   "cell_type": "markdown",
   "metadata": {},
   "source": [
    "However, a vector containing the six values inside the parentheses has been created. The next command shows the vector that was created:"
   ]
  },
  {
   "cell_type": "code",
   "execution_count": 3,
   "metadata": {},
   "outputs": [
    {
     "data": {
      "text/html": [
       "<ol class=list-inline>\n",
       "\t<li>2</li>\n",
       "\t<li>5</li>\n",
       "\t<li>8</li>\n",
       "\t<li>9</li>\n",
       "\t<li>9</li>\n",
       "\t<li>10</li>\n",
       "\t<li>11</li>\n",
       "</ol>\n"
      ],
      "text/latex": [
       "\\begin{enumerate*}\n",
       "\\item 2\n",
       "\\item 5\n",
       "\\item 8\n",
       "\\item 9\n",
       "\\item 9\n",
       "\\item 10\n",
       "\\item 11\n",
       "\\end{enumerate*}\n"
      ],
      "text/markdown": [
       "1. 2\n",
       "2. 5\n",
       "3. 8\n",
       "4. 9\n",
       "5. 9\n",
       "6. 10\n",
       "7. 11\n",
       "\n",
       "\n"
      ],
      "text/plain": [
       "[1]  2  5  8  9  9 10 11"
      ]
     },
     "metadata": {},
     "output_type": "display_data"
    }
   ],
   "source": [
    "Data"
   ]
  },
  {
   "cell_type": "markdown",
   "metadata": {},
   "source": [
    "or"
   ]
  },
  {
   "cell_type": "code",
   "execution_count": 4,
   "metadata": {},
   "outputs": [
    {
     "data": {
      "text/html": [
       "<ol>\n",
       "\t<li><ol class=list-inline>\n",
       "\t<li>2</li>\n",
       "\t<li>5</li>\n",
       "\t<li>8</li>\n",
       "\t<li>9</li>\n",
       "\t<li>9</li>\n",
       "\t<li>10</li>\n",
       "\t<li>11</li>\n",
       "</ol>\n",
       "</li>\n",
       "</ol>\n"
      ],
      "text/latex": [
       "\\begin{enumerate}\n",
       "\\item \\begin{enumerate*}\n",
       "\\item 2\n",
       "\\item 5\n",
       "\\item 8\n",
       "\\item 9\n",
       "\\item 9\n",
       "\\item 10\n",
       "\\item 11\n",
       "\\end{enumerate*}\n",
       "\n",
       "\\end{enumerate}\n"
      ],
      "text/markdown": [
       "1. 1. 2\n",
       "2. 5\n",
       "3. 8\n",
       "4. 9\n",
       "5. 9\n",
       "6. 10\n",
       "7. 11\n",
       "\n",
       "\n",
       "\n",
       "\n",
       "\n"
      ],
      "text/plain": [
       "[[1]]\n",
       "[1]  2  5  8  9  9 10 11\n"
      ]
     },
     "metadata": {},
     "output_type": "display_data"
    }
   ],
   "source": [
    "list(Data)"
   ]
  },
  {
   "cell_type": "markdown",
   "metadata": {},
   "source": [
    "Finally, the **boxplot** function creates a boxplot of the data. <span style=\"color: gray;\">(The plot opens in a new window when you use a basic R console)</span>"
   ]
  },
  {
   "cell_type": "code",
   "execution_count": 5,
   "metadata": {},
   "outputs": [
    {
     "data": {
      "image/png": "[encoded data removed]",
      "text/plain": [
       "plot without title"
      ]
     },
     "metadata": {},
     "output_type": "display_data"
    }
   ],
   "source": [
    "boxplot(Data)"
   ]
  },
  {
   "cell_type": "markdown",
   "metadata": {},
   "source": [
    "Commands, object and variables names, functions and options are **case sensitive**. For example, recall that we created the object \"Data\" and executed the mean functions on it. Suppose we forgot that we capitalized the object name when we called the mean function:"
   ]
  },
  {
   "cell_type": "code",
   "execution_count": 12,
   "metadata": {},
   "outputs": [
    {
     "name": "stderr",
     "output_type": "stream",
     "text": [
      "Warning message in mean.default(data):\n",
      "“argument is not numeric or logical: returning NA”"
     ]
    },
    {
     "data": {
      "text/html": [
       "&lt;NA&gt;"
      ],
      "text/latex": [
       "<NA>"
      ],
      "text/markdown": [
       "&lt;NA&gt;"
      ],
      "text/plain": [
       "[1] NA"
      ]
     },
     "metadata": {},
     "output_type": "display_data"
    }
   ],
   "source": [
    "Data <- c(2,5,8,9,9,10,11)\n",
    "mean(data)"
   ]
  },
  {
   "cell_type": "markdown",
   "metadata": {},
   "source": [
    "Instead of the mean you will get *NA*, because there is no such object name \"data\".\n",
    "Similarly, if you type list(data), instead of a list of the contents of the vector, we get a long, hard to decipher bunch of code that looks serious but is not particularly helpful to diagnose the cause of the problem. Thus, it bears repeating: **R is case sensitive**--it is a good idea to check for this first when things are not working as expected."
   ]
  },
  {
   "cell_type": "markdown",
   "metadata": {},
   "source": [
    "### 2.3 R interfaces"
   ]
  },
  {
   "cell_type": "markdown",
   "metadata": {},
   "source": [
    "Because R is interactive and wants to execute commands each time the return key is hit, many users prefer to write blocks of code outside of the console, and then import or copy and paste the entire block to excite at once in the R console. There are several options for doing this:\n",
    "1. Text editor: The simplest way to compose code is to use a text editor such as Notepad. The code can be saved as a file and then executed from inside the R console.\n",
    "\n",
    "2. R editor: From the file menu inside R, choose either *New Script* to compose new code, or *Open Script* to open saved code.\n",
    "\n",
    "3. RStudio: RStudio is a free workspace that includes a text editor window and the R console in the same window, and can also show graphics and results of executed commands. This may be the easiest way to use R and we will illustrate it's use in this workshop.  \n",
    "\n",
    "Download RStudio from:\n",
    "<https://www.rstudio.com/products/rstudio/download/>.  \n",
    "\n",
    "Other interfaces designed for R are available, but we will not cover these in this workshop.\n",
    "\n",
    "***\n",
    "When you open RStudio, you will see something similar to the image below.\n",
    "Here the console can be used as before, but with several enhancements:\n",
    "\n",
    "- Environment/History window that shows all the active objects and command history\n",
    "- A window with tabs that allows you to show all files and folders in your default workspace, see all plots created, list and install packages, and access help topics and documentation\n",
    "- An Editor window in which syntax can be composed and executed (click on the upper right corner of the console window)."
   ]
  },
  {
   "cell_type": "markdown",
   "metadata": {},
   "source": [
    "![R Studio](https://bookdown.org/gary_a_napier/induction_-_introduction_to_r/_book/images/Image2_Retry.png)"
   ]
  },
  {
   "cell_type": "code",
   "execution_count": 2,
   "metadata": {},
   "outputs": [],
   "source": [
    "# display_png(file=\"RStudio.png\") "
   ]
  },
  {
   "cell_type": "markdown",
   "metadata": {},
   "source": [
    "### 2.4 Reading data into R"
   ]
  },
  {
   "cell_type": "markdown",
   "metadata": {},
   "source": [
    "In most situations, data will be stored in an external file that will need to be read into R. The **read.table** function is a general-purpose function for reading delimited text files. Suppose the data of the previous examples is contained in a text file called \"datafile1.txt\", arranged as below, with rows corresponding to observations:\n",
    "```\n",
    "2  \n",
    "5   \n",
    "8   \n",
    "9   \n",
    "9   \n",
    "10\n",
    "```\n",
    "Then to create the data frame, use the command:\n",
    "```\n",
    "Data <- read.table(file=\"https://www.uncg.edu/mat/qms/datafile1.txt\", header=F) \n",
    "Data\n",
    "```\n",
    "Notice that forward slashes(/) are used in R to separate folders, whereas Windows uses back-slashes.\n",
    "```\n",
    "Data=read.table(file=\"https://www.uncg.edu/mat/qms/datafile1.txt\", header=F) \n",
    "Data\n",
    "```\n",
    "Now we may use functions to process the data. In the `read.table` function, the first argument is the specification of the location, `file=`, which is required. Next are two options, separated by commas. The first, `sep=\"\"`, specifies the delimiter, which in this case is a space, while the second specifies that the first row of the file does not contain variable name. If the first row contains the name of the variable, then add the option `header=TRUE` (or `header=T`).\n",
    "Note that all letters after the equal sign must be capitalized. Many other options can be specified in the `read.table` function (more on this later)."
   ]
  },
  {
   "cell_type": "markdown",
   "metadata": {},
   "source": [
    "## 3. Statistical analysis using R"
   ]
  },
  {
   "cell_type": "markdown",
   "metadata": {},
   "source": [
    "### 3.1 Our Working data set and results\n",
    "We now consider a space-delimited data file containing several variables measured on students in an introductory statistics class."
   ]
  },
  {
   "cell_type": "markdown",
   "metadata": {},
   "source": [
    "Students in a statistics class at The University of Queensland participated in an experiment. First, the students measured their pulse rate. They were then asked to flip a coin. If the coin came up heads, they were to run in place for one minute, otherwise they sat for one minute. Next, everyone measured their pulse rate again. The pulse rates and other physiological and lifestyle variables are given in the data file. \n",
    "Five class groups between 1993 and 1998 participated in the experiment. After the first year, their arose a concern that some students chose the less strenuous option of sitting, even if their coin came up heads. Thus, in the years 1995-1998 a different method of random assignment was used: an equal number of students were randomly assigned to either running or sitting. In 1995 and 1998 not all of the forms were returned so the numbers running and sitting was still not entirely controlled.\n",
    "***\n",
    "**Variable  Description**\n",
    "\n",
    "Height :     Height (cm)  \n",
    "Weight :     Weight (kg)  \n",
    "Age  :       Age (years)  \n",
    "Gender  :    Sex (1 = M, 2 = F)  \n",
    "Smokes :     Regular smoker? (1 = yes, 2 = no)  \n",
    "Alcohol  :   Regular drinker? (1 = yes, 2 = no)  \n",
    "Exercise :   Frequency of exercise (1 = high, 2 = moderate, 3 = low)  \n",
    "Ran    :     Whether the student ran or sat between the first and second pulse measurements (1 = ran, 2 = sat)  \n",
    "Pulse1  :    First pulse measurement (rate per minute)  \n",
    "Pulse2 :     Second pulse measurement (rate per minute)  \n",
    "Year   :     Year of class (93 - 98)\n",
    "***\n",
    "#### Reading the data file\n",
    "The `read.table` function discussed earlier can be used to read the file, and the `head` function to display first 5 rows of the file:"
   ]
  },
  {
   "cell_type": "code",
   "execution_count": 1,
   "metadata": {},
   "outputs": [
    {
     "data": {
      "text/html": [
       "<table>\n",
       "<thead><tr><th scope=col>Height</th><th scope=col>Weight</th><th scope=col>Age</th><th scope=col>Gender</th><th scope=col>Smokes</th><th scope=col>Alcohol</th><th scope=col>Exercise</th><th scope=col>Ran</th><th scope=col>Pulse1</th><th scope=col>Pulse2</th><th scope=col>Year</th></tr></thead>\n",
       "<tbody>\n",
       "\t<tr><td>173</td><td>57 </td><td>18 </td><td>2  </td><td>2  </td><td>1  </td><td>2  </td><td>2  </td><td>86 </td><td> 88</td><td>93 </td></tr>\n",
       "\t<tr><td>179</td><td>58 </td><td>19 </td><td>2  </td><td>2  </td><td>1  </td><td>2  </td><td>1  </td><td>82 </td><td>150</td><td>93 </td></tr>\n",
       "\t<tr><td>167</td><td>62 </td><td>18 </td><td>2  </td><td>2  </td><td>1  </td><td>1  </td><td>1  </td><td>96 </td><td>176</td><td>93 </td></tr>\n",
       "\t<tr><td>195</td><td>84 </td><td>18 </td><td>1  </td><td>2  </td><td>1  </td><td>1  </td><td>2  </td><td>71 </td><td> 73</td><td>93 </td></tr>\n",
       "\t<tr><td>173</td><td>64 </td><td>18 </td><td>2  </td><td>2  </td><td>1  </td><td>3  </td><td>2  </td><td>90 </td><td> 88</td><td>93 </td></tr>\n",
       "</tbody>\n",
       "</table>\n"
      ],
      "text/latex": [
       "\\begin{tabular}{r|lllllllllll}\n",
       " Height & Weight & Age & Gender & Smokes & Alcohol & Exercise & Ran & Pulse1 & Pulse2 & Year\\\\\n",
       "\\hline\n",
       "\t 173 & 57  & 18  & 2   & 2   & 1   & 2   & 2   & 86  &  88 & 93 \\\\\n",
       "\t 179 & 58  & 19  & 2   & 2   & 1   & 2   & 1   & 82  & 150 & 93 \\\\\n",
       "\t 167 & 62  & 18  & 2   & 2   & 1   & 1   & 1   & 96  & 176 & 93 \\\\\n",
       "\t 195 & 84  & 18  & 1   & 2   & 1   & 1   & 2   & 71  &  73 & 93 \\\\\n",
       "\t 173 & 64  & 18  & 2   & 2   & 1   & 3   & 2   & 90  &  88 & 93 \\\\\n",
       "\\end{tabular}\n"
      ],
      "text/markdown": [
       "\n",
       "Height | Weight | Age | Gender | Smokes | Alcohol | Exercise | Ran | Pulse1 | Pulse2 | Year | \n",
       "|---|---|---|---|---|\n",
       "| 173 | 57  | 18  | 2   | 2   | 1   | 2   | 2   | 86  |  88 | 93  | \n",
       "| 179 | 58  | 19  | 2   | 2   | 1   | 2   | 1   | 82  | 150 | 93  | \n",
       "| 167 | 62  | 18  | 2   | 2   | 1   | 1   | 1   | 96  | 176 | 93  | \n",
       "| 195 | 84  | 18  | 1   | 2   | 1   | 1   | 2   | 71  |  73 | 93  | \n",
       "| 173 | 64  | 18  | 2   | 2   | 1   | 3   | 2   | 90  |  88 | 93  | \n",
       "\n",
       "\n"
      ],
      "text/plain": [
       "  Height Weight Age Gender Smokes Alcohol Exercise Ran Pulse1 Pulse2 Year\n",
       "1 173    57     18  2      2      1       2        2   86      88    93  \n",
       "2 179    58     19  2      2      1       2        1   82     150    93  \n",
       "3 167    62     18  2      2      1       1        1   96     176    93  \n",
       "4 195    84     18  1      2      1       1        2   71      73    93  \n",
       "5 173    64     18  2      2      1       3        2   90      88    93  "
      ]
     },
     "metadata": {},
     "output_type": "display_data"
    }
   ],
   "source": [
    "Pulse <- read.table(file=\"https://www.uncg.edu/mat/qms/data.txt\",header=T) \n",
    "head(Pulse,5)"
   ]
  },
  {
   "cell_type": "markdown",
   "metadata": {},
   "source": [
    "Another common type of delimited file is a comma-separated (csv) file. If the previous data file had been saved as a csv file, the `read.table` function can be modified as\n",
    "\n",
    "`Pulse <- read.table(file=\"https://www.uncg.edu/mat/qms/data.txt\", sep=\",\", header=T)`\n",
    "\n",
    "or the function `read.csv` may be used\n",
    "\n",
    "`Pulse <- read.csv(file=\"https://www.uncg.edu/mat/qms/data.txt\", header=T)`"
   ]
  },
  {
   "cell_type": "markdown",
   "metadata": {},
   "source": [
    "### 3.2 Research Questions\n",
    "**1. What is the nature and strength of the association between Pulse1 (the first pulse measurement) and certain lifestyle and physiological measurements? Are frequent exercisers fitter?**\n",
    "\n",
    "#### Explore the relationship between Pulse1 and Weight.\n",
    "\n",
    "$(a)$ **Scatterplot of Pulse1 by Weight:** \"The plot suggests a weak negative linear relation between\n",
    "weight and the first pulse reading. There is also an outlying observation that could affect the\n",
    "quantitative assessments of the association.\""
   ]
  },
  {
   "cell_type": "code",
   "execution_count": 2,
   "metadata": {},
   "outputs": [
    {
     "data": {
      "image/png": "[encoded data removed]",
      "text/plain": [
       "plot without title"
      ]
     },
     "metadata": {},
     "output_type": "display_data"
    }
   ],
   "source": [
    "plot(Pulse$Pulse1~Pulse$Weight)"
   ]
  },
  {
   "cell_type": "markdown",
   "metadata": {},
   "source": [
    "\n",
    "$(b)$ **Simple linear regression**. \"Each additional pound of weight was associated with a 0.17 beat\n",
    "per minute decrease in pulse\"   \n",
    "\n",
    "$(c)$ **Pearson correlation**. \"The Pearson correlation between Pulse1 and Weight was r = -0.195,\n",
    "which was statistically significant at the 0.05 level of significance t(df=107) = -2.05, p = 0.043).\"\n"
   ]
  },
  {
   "cell_type": "markdown",
   "metadata": {},
   "source": [
    "#### Explore the relationship between Pulse1 and smoking status.\n",
    "$(a)$ **Boxplot** of Pulse1 by smoking status. \"The boxplots suggest that there is little difference between typical first pulse measurements of smokers and nonsmokers, but that there is more variability among nonsmokers.\"  "
   ]
  },
  {
   "cell_type": "code",
   "execution_count": 4,
   "metadata": {},
   "outputs": [
    {
     "data": {
      "image/png": "[encoded data removed]",
      "text/plain": [
       "plot without title"
      ]
     },
     "metadata": {},
     "output_type": "display_data"
    }
   ],
   "source": [
    "Pulse$Smokes.factor <- factor(Pulse$Smokes, levels=c(1,2), labels=c(\"Y\", \"N\"))\n",
    "boxplot(Pulse$Pulse1~Pulse$Smokes.factor,data=Pulse)"
   ]
  },
  {
   "cell_type": "markdown",
   "metadata": {},
   "source": [
    "$(b)$ **Descriptives**. The mean pulse rate for smokers was 77.55 bpm and for nonsmokers 75.48 bpm.\n",
    "$(c)$ **t-test.** The mean difference of 2.07 was not statistically significant t(df=107) = 0.49, p = 0.314)\"\n",
    "***\n",
    "**2. Is there evidence that some students didn't run even though their coin toss came up heads?**  \n",
    "\\justifying\n",
    "One way to answer this is to ask the question, \"Is there evidence that fewer than 50% were selected to run?\"\n",
    "\n",
    "$(a)$ **Frequencies and proportions**. \"Overall, 41.8% of all students ran between pulse readings.\"\n",
    "\\newline\n",
    "\\justifying\n",
    "$(b)$ **Test for proportion**. \"Assuming this groups of students can be considered a random sample from all similar statistics students, this is moderate, but not convincing statistical evidence that fewer than 50% of all students would be selected to run ($\\chi^{2}$(1) $= 2.63$, $p = 0.053$). Thus, there is not convincing statistical evidence that students lied about the result of the coin toss.\n",
    "\n",
    "#### Is the proportion that ran between measurements dependent on year?\n",
    "\\justifying\n",
    "$(c)$ **Crosstabs, bar charts, chi-squared test**.\n",
    "\"The bar charts show a tendency for fewer students to run (except for 1996), but the discrepancy is greatest in 1993. When comparing 1993 to 1995-1998, 30.8% of students in 1993 admitted to obtaining heads compared to 45.2% in 1995-1998. However, this difference was not statistically significant ($\\chi^{2}(1)=1.17$, $p = 0.28$)."
   ]
  },
  {
   "cell_type": "code",
   "execution_count": 5,
   "metadata": {},
   "outputs": [
    {
     "data": {
      "image/png": "[encoded data removed]",
      "text/plain": [
       "Plot with title “Ran(Y/N) for all Years”"
      ]
     },
     "metadata": {},
     "output_type": "display_data"
    }
   ],
   "source": [
    "Pulse$Ran.factor <- factor(Pulse$Ran, levels=c(1,2),labels=c(\"Y\", \"N\"))\n",
    "Year.table<-table(Pulse$Year,Pulse$Ran.factor)\n",
    "#colours <- c(\"red\", \"orange\", \"blue\", \"yellow\", \"green\")\n",
    "barplot(Year.table,xlab=\"Ran\",ylab=\"Count\",main=\"Ran(Y/N) for all Years\",beside=TRUE,col=grey.colors(5))\n",
    "legend(\"topleft\",fill =grey.colors(5),legend=rownames(Year.table))"
   ]
  },
  {
   "cell_type": "markdown",
   "metadata": {},
   "source": [
    "### 3.3 Using R to generate the results\n",
    "Before we begin, it is important to check the data types of the variables, as sometimes the data type may not be what we expect (e.g., a numerical variable may be interpreted as a character or vice-versa). Thus we start by getting a summary of the variables and their types using the `str` function:"
   ]
  },
  {
   "cell_type": "code",
   "execution_count": null,
   "metadata": {},
   "outputs": [],
   "source": [
    "str(Pulse)"
   ]
  },
  {
   "cell_type": "markdown",
   "metadata": {},
   "source": [
    "Notice that the name of each column, along with the type of data and the first 10 observations are given. The variable *Gender* is listed as a factor. The rest are considered numeric.\n",
    "\n",
    "The `summary` function, when applied to a data frame, will compute the mean and 5-number summary for all numeric variables and frequencies for factors or character variables:"
   ]
  },
  {
   "cell_type": "code",
   "execution_count": null,
   "metadata": {},
   "outputs": [],
   "source": [
    "summary(Pulse)"
   ]
  },
  {
   "cell_type": "markdown",
   "metadata": {},
   "source": [
    "Notice that there are several variables treated as numeric that are actually categorical variables, such as *Smokes*, which is an indicator for whether or not the individual smoked (1 indicates the person smoked). Since it does not make sense to compute numerical summaries on such a variable, we will need to let R know to treat these as categorical when necessary. \n",
    "\n",
    "We can also select individual variables to summarize. The code below chooses only the variable *Weight* to summarize:"
   ]
  },
  {
   "cell_type": "code",
   "execution_count": null,
   "metadata": {},
   "outputs": [],
   "source": [
    "summary(Pulse$Weight)"
   ]
  },
  {
   "cell_type": "markdown",
   "metadata": {},
   "source": [
    "###### How does Pulse1 (the first pulse measurement) depend on the lifestyle and physiological measurements? \n",
    "\n",
    "###### Explore the relationship between Pulse1 and Weight.\n",
    "\n",
    "$(a)$ **Scatterplot** of Pulse1 by Weight. The `plot` function can be used. Two different ways of specifying the variables can be employed: \n",
    "(i) `plot(x,y)` or \n",
    "(ii) `plot(y~x)` (The latter is called a *formula* argument). Thus, to obtain scatterplot, use either:"
   ]
  },
  {
   "cell_type": "code",
   "execution_count": null,
   "metadata": {},
   "outputs": [],
   "source": [
    "plot(Pulse$Pulse1 ~ Pulse$Weight)"
   ]
  },
  {
   "cell_type": "code",
   "execution_count": null,
   "metadata": {},
   "outputs": [],
   "source": [
    "plot(Pulse$Weight, Pulse$Pulse1)"
   ]
  },
  {
   "cell_type": "markdown",
   "metadata": {},
   "source": [
    "#### Explore the relationship between Pulse1 and Weight.\n",
    "To help determine if a straight-line model would be a good approximation, a least squares regression line (details of **lm** function in next section) can be added to the plot:"
   ]
  },
  {
   "cell_type": "code",
   "execution_count": 6,
   "metadata": {},
   "outputs": [
    {
     "data": {
      "image/png": "[encoded data removed]",
      "text/plain": [
       "plot without title"
      ]
     },
     "metadata": {},
     "output_type": "display_data"
    }
   ],
   "source": [
    "plot(Pulse$Pulse1 ~ Pulse$Weight )\n",
    "abline(lm(Pulse$Pulse1 ~ Pulse$Weight))"
   ]
  },
  {
   "cell_type": "code",
   "execution_count": null,
   "metadata": {},
   "outputs": [],
   "source": []
  },
  {
   "cell_type": "code",
   "execution_count": 7,
   "metadata": {},
   "outputs": [
    {
     "data": {
      "text/plain": [
       "\n",
       "Call:\n",
       "lm(formula = Pulse1 ~ Weight, data = Pulse)\n",
       "\n",
       "Coefficients:\n",
       "(Intercept)       Weight  \n",
       "      86.97        -0.17  \n"
      ]
     },
     "metadata": {},
     "output_type": "display_data"
    }
   ],
   "source": [
    "lm(Pulse1~Weight, data=Pulse)"
   ]
  },
  {
   "cell_type": "code",
   "execution_count": null,
   "metadata": {},
   "outputs": [],
   "source": [
    "The previous code produced only the estimates of the slope and intercept of the regression line. However, if we create an object to store the results of the **lm** function, many additional results can be obtained. "
   ]
  },
  {
   "cell_type": "code",
   "execution_count": 8,
   "metadata": {},
   "outputs": [
    {
     "data": {
      "text/plain": [
       "\n",
       "Call:\n",
       "lm(formula = Pulse1 ~ Weight, data = Pulse)\n",
       "\n",
       "Residuals:\n",
       "    Min      1Q  Median      3Q     Max \n",
       "-26.878  -9.218   0.422   6.733  71.632 \n",
       "\n",
       "Coefficients:\n",
       "            Estimate Std. Error t value Pr(>|t|)    \n",
       "(Intercept) 86.96948    5.63684  15.429   <2e-16 ***\n",
       "Weight      -0.17002    0.08282  -2.053   0.0425 *  \n",
       "---\n",
       "Signif. codes:  0 ‘***’ 0.001 ‘**’ 0.01 ‘*’ 0.05 ‘.’ 0.1 ‘ ’ 1\n",
       "\n",
       "Residual standard error: 13.1 on 107 degrees of freedom\n",
       "  (1 observation deleted due to missingness)\n",
       "Multiple R-squared:  0.03789,\tAdjusted R-squared:  0.0289 \n",
       "F-statistic: 4.214 on 1 and 107 DF,  p-value: 0.04252\n"
      ]
     },
     "metadata": {},
     "output_type": "display_data"
    }
   ],
   "source": [
    "reg.fit<-lm(Pulse1~Weight, data=Pulse)\n",
    "summary(reg.fit)"
   ]
  },
  {
   "cell_type": "code",
   "execution_count": 9,
   "metadata": {},
   "outputs": [
    {
     "data": {
      "text/html": [
       "<table>\n",
       "<thead><tr><th></th><th scope=col>Df</th><th scope=col>Sum Sq</th><th scope=col>Mean Sq</th><th scope=col>F value</th><th scope=col>Pr(&gt;F)</th></tr></thead>\n",
       "<tbody>\n",
       "\t<tr><th scope=row>Weight</th><td>  1       </td><td>  723.691 </td><td>723.6910  </td><td>4.214444  </td><td>0.04252075</td></tr>\n",
       "\t<tr><th scope=row>Residuals</th><td>107       </td><td>18373.703 </td><td>171.7169  </td><td>      NA  </td><td>        NA</td></tr>\n",
       "</tbody>\n",
       "</table>\n"
      ],
      "text/latex": [
       "\\begin{tabular}{r|lllll}\n",
       "  & Df & Sum Sq & Mean Sq & F value & Pr(>F)\\\\\n",
       "\\hline\n",
       "\tWeight &   1        &   723.691  & 723.6910   & 4.214444   & 0.04252075\\\\\n",
       "\tResiduals & 107        & 18373.703  & 171.7169   &       NA   &         NA\\\\\n",
       "\\end{tabular}\n"
      ],
      "text/markdown": [
       "\n",
       "| <!--/--> | Df | Sum Sq | Mean Sq | F value | Pr(>F) | \n",
       "|---|---|\n",
       "| Weight |   1        |   723.691  | 723.6910   | 4.214444   | 0.04252075 | \n",
       "| Residuals | 107        | 18373.703  | 171.7169   |       NA   |         NA | \n",
       "\n",
       "\n"
      ],
      "text/plain": [
       "          Df  Sum Sq    Mean Sq  F value  Pr(>F)    \n",
       "Weight      1   723.691 723.6910 4.214444 0.04252075\n",
       "Residuals 107 18373.703 171.7169       NA         NA"
      ]
     },
     "metadata": {},
     "output_type": "display_data"
    }
   ],
   "source": [
    "anova(reg.fit)"
   ]
  },
  {
   "cell_type": "code",
   "execution_count": null,
   "metadata": {},
   "outputs": [],
   "source": [
    "Functions for generating residuals and fitted (or \"predicted\") values can also be used."
   ]
  },
  {
   "cell_type": "code",
   "execution_count": 10,
   "metadata": {},
   "outputs": [
    {
     "data": {
      "text/html": [
       "<dl class=dl-horizontal>\n",
       "\t<dt>1</dt>\n",
       "\t\t<dd>77.2783117059444</dd>\n",
       "\t<dt>2</dt>\n",
       "\t\t<dd>77.108291131204</dd>\n",
       "\t<dt>3</dt>\n",
       "\t\t<dd>76.4282088322419</dd>\n",
       "\t<dt>4</dt>\n",
       "\t\t<dd>72.6877561879508</dd>\n",
       "\t<dt>5</dt>\n",
       "\t\t<dd>76.0881676827609</dd>\n",
       "\t<dt>6</dt>\n",
       "\t\t<dd>74.3879619353558</dd>\n",
       "\t<dt>7</dt>\n",
       "\t\t<dd>77.2783117059445</dd>\n",
       "\t<dt>8</dt>\n",
       "\t\t<dd>77.6183528554255</dd>\n",
       "\t<dt>9</dt>\n",
       "\t\t<dd>77.448332280685</dd>\n",
       "\t<dt>10</dt>\n",
       "\t\t<dd>76.7682499817229</dd>\n",
       "\t<dt>11</dt>\n",
       "\t\t<dd>74.2179413606153</dd>\n",
       "\t<dt>12</dt>\n",
       "\t\t<dd>77.108291131204</dd>\n",
       "\t<dt>13</dt>\n",
       "\t\t<dd>75.4080853837989</dd>\n",
       "\t<dt>14</dt>\n",
       "\t\t<dd>76.9382705564635</dd>\n",
       "\t<dt>15</dt>\n",
       "\t\t<dd>74.7280030848369</dd>\n",
       "\t<dt>16</dt>\n",
       "\t\t<dd>68.2672212446976</dd>\n",
       "\t<dt>17</dt>\n",
       "\t\t<dd>77.448332280685</dd>\n",
       "\t<dt>18</dt>\n",
       "\t\t<dd>75.0680442343179</dd>\n",
       "\t<dt>19</dt>\n",
       "\t\t<dd>77.448332280685</dd>\n",
       "\t<dt>20</dt>\n",
       "\t\t<dd>78.468455729128</dd>\n",
       "\t<dt>21</dt>\n",
       "\t\t<dd>76.7682499817229</dd>\n",
       "\t<dt>22</dt>\n",
       "\t\t<dd>78.468455729128</dd>\n",
       "\t<dt>23</dt>\n",
       "\t\t<dd>77.6183528554255</dd>\n",
       "\t<dt>24</dt>\n",
       "\t\t<dd>74.2179413606153</dd>\n",
       "\t<dt>25</dt>\n",
       "\t\t<dd>76.9382705564635</dd>\n",
       "\t<dt>26</dt>\n",
       "\t\t<dd>74.3879619353558</dd>\n",
       "\t<dt>27</dt>\n",
       "\t\t<dd>76.7682499817229</dd>\n",
       "\t<dt>28</dt>\n",
       "\t\t<dd>76.7682499817229</dd>\n",
       "\t<dt>29</dt>\n",
       "\t\t<dd>76.7682499817229</dd>\n",
       "\t<dt>30</dt>\n",
       "\t\t<dd>77.448332280685</dd>\n",
       "\t<dt>31</dt>\n",
       "\t\t<dd>74.2179413606153</dd>\n",
       "\t<dt>32</dt>\n",
       "\t\t<dd>72.5177356132103</dd>\n",
       "\t<dt>33</dt>\n",
       "\t\t<dd>77.2783117059445</dd>\n",
       "\t<dt>34</dt>\n",
       "\t\t<dd>75.7481265332799</dd>\n",
       "\t<dt>35</dt>\n",
       "\t\t<dd>75.9181471080204</dd>\n",
       "\t<dt>36</dt>\n",
       "\t\t<dd>77.6183528554255</dd>\n",
       "\t<dt>37</dt>\n",
       "\t\t<dd>71.6676327395077</dd>\n",
       "\t<dt>38</dt>\n",
       "\t\t<dd>75.4080853837989</dd>\n",
       "\t<dt>39</dt>\n",
       "\t\t<dd>76.2581882575014</dd>\n",
       "\t<dt>40</dt>\n",
       "\t\t<dd>78.6384763038685</dd>\n",
       "\t<dt>41</dt>\n",
       "\t\t<dd>75.7481265332799</dd>\n",
       "\t<dt>42</dt>\n",
       "\t\t<dd>76.2581882575014</dd>\n",
       "\t<dt>43</dt>\n",
       "\t\t<dd>75.9181471080204</dd>\n",
       "\t<dt>44</dt>\n",
       "\t\t<dd>76.7682499817229</dd>\n",
       "\t<dt>45</dt>\n",
       "\t\t<dd>76.7682499817229</dd>\n",
       "\t<dt>46</dt>\n",
       "\t\t<dd>79.14853802809</dd>\n",
       "\t<dt>47</dt>\n",
       "\t\t<dd>75.0680442343179</dd>\n",
       "\t<dt>48</dt>\n",
       "\t\t<dd>72.5177356132103</dd>\n",
       "\t<dt>49</dt>\n",
       "\t\t<dd>76.7682499817229</dd>\n",
       "\t<dt>50</dt>\n",
       "\t\t<dd>75.0680442343179</dd>\n",
       "\t<dt>51</dt>\n",
       "\t\t<dd>79.9986409017926</dd>\n",
       "\t<dt>52</dt>\n",
       "\t\t<dd>74.5579825100964</dd>\n",
       "\t<dt>53</dt>\n",
       "\t\t<dd>74.2179413606153</dd>\n",
       "\t<dt>54</dt>\n",
       "\t\t<dd>75.5781059585394</dd>\n",
       "\t<dt>55</dt>\n",
       "\t\t<dd>76.2581882575014</dd>\n",
       "\t<dt>56</dt>\n",
       "\t\t<dd>75.0680442343179</dd>\n",
       "\t<dt>57</dt>\n",
       "\t\t<dd>72.5177356132103</dd>\n",
       "\t<dt>58</dt>\n",
       "\t\t<dd>78.2984351543875</dd>\n",
       "\t<dt>59</dt>\n",
       "\t\t<dd>78.6384763038685</dd>\n",
       "\t<dt>60</dt>\n",
       "\t\t<dd>74.2179413606153</dd>\n",
       "\t<dt>61</dt>\n",
       "\t\t<dd>73.8779002111343</dd>\n",
       "\t<dt>62</dt>\n",
       "\t\t<dd>72.1776944637293</dd>\n",
       "\t<dt>63</dt>\n",
       "\t\t<dd>77.788373430166</dd>\n",
       "\t<dt>64</dt>\n",
       "\t\t<dd>69.6273858426216</dd>\n",
       "\t<dt>65</dt>\n",
       "\t\t<dd>76.4282088322419</dd>\n",
       "\t<dt>66</dt>\n",
       "\t\t<dd>78.468455729128</dd>\n",
       "\t<dt>67</dt>\n",
       "\t\t<dd>77.2783117059445</dd>\n",
       "\t<dt>68</dt>\n",
       "\t\t<dd>73.3678384869128</dd>\n",
       "\t<dt>69</dt>\n",
       "\t\t<dd>70.3074681415837</dd>\n",
       "\t<dt>70</dt>\n",
       "\t\t<dd>79.8286203270521</dd>\n",
       "\t<dt>71</dt>\n",
       "\t\t<dd>72.1776944637293</dd>\n",
       "\t<dt>72</dt>\n",
       "\t\t<dd>73.0277973374318</dd>\n",
       "\t<dt>73</dt>\n",
       "\t\t<dd>73.3678384869128</dd>\n",
       "\t<dt>74</dt>\n",
       "\t\t<dd>78.808496878609</dd>\n",
       "\t<dt>75</dt>\n",
       "\t\t<dd>77.9583940049065</dd>\n",
       "\t<dt>77</dt>\n",
       "\t\t<dd>77.8733837175362</dd>\n",
       "\t<dt>78</dt>\n",
       "\t\t<dd>77.0232808438337</dd>\n",
       "\t<dt>79</dt>\n",
       "\t\t<dd>78.2984351543875</dd>\n",
       "\t<dt>80</dt>\n",
       "\t\t<dd>73.7078796363938</dd>\n",
       "\t<dt>81</dt>\n",
       "\t\t<dd>76.9382705564635</dd>\n",
       "\t<dt>82</dt>\n",
       "\t\t<dd>74.8980236595774</dd>\n",
       "\t<dt>83</dt>\n",
       "\t\t<dd>74.0479207858748</dd>\n",
       "\t<dt>84</dt>\n",
       "\t\t<dd>68.2672212446976</dd>\n",
       "\t<dt>85</dt>\n",
       "\t\t<dd>76.2581882575014</dd>\n",
       "\t<dt>86</dt>\n",
       "\t\t<dd>69.1173241184001</dd>\n",
       "\t<dt>87</dt>\n",
       "\t\t<dd>70.8175298658052</dd>\n",
       "\t<dt>88</dt>\n",
       "\t\t<dd>72.0076738889887</dd>\n",
       "\t<dt>89</dt>\n",
       "\t\t<dd>78.468455729128</dd>\n",
       "\t<dt>90</dt>\n",
       "\t\t<dd>77.788373430166</dd>\n",
       "\t<dt>91</dt>\n",
       "\t\t<dd>73.6228693490236</dd>\n",
       "\t<dt>92</dt>\n",
       "\t\t<dd>70.6475092910647</dd>\n",
       "\t<dt>93</dt>\n",
       "\t\t<dd>72.3477150384698</dd>\n",
       "\t<dt>94</dt>\n",
       "\t\t<dd>77.108291131204</dd>\n",
       "\t<dt>95</dt>\n",
       "\t\t<dd>77.108291131204</dd>\n",
       "\t<dt>96</dt>\n",
       "\t\t<dd>73.7078796363938</dd>\n",
       "\t<dt>97</dt>\n",
       "\t\t<dd>75.9181471080204</dd>\n",
       "\t<dt>98</dt>\n",
       "\t\t<dd>76.4282088322419</dd>\n",
       "\t<dt>99</dt>\n",
       "\t\t<dd>77.6183528554255</dd>\n",
       "\t<dt>100</dt>\n",
       "\t\t<dd>76.7682499817229</dd>\n",
       "\t<dt>101</dt>\n",
       "\t\t<dd>77.6183528554255</dd>\n",
       "\t<dt>102</dt>\n",
       "\t\t<dd>76.2581882575014</dd>\n",
       "\t<dt>103</dt>\n",
       "\t\t<dd>76.2581882575014</dd>\n",
       "\t<dt>104</dt>\n",
       "\t\t<dd>73.3678384869128</dd>\n",
       "\t<dt>105</dt>\n",
       "\t\t<dd>78.9785174533495</dd>\n",
       "\t<dt>106</dt>\n",
       "\t\t<dd>82.3789289481597</dd>\n",
       "\t<dt>107</dt>\n",
       "\t\t<dd>79.6585997523116</dd>\n",
       "\t<dt>108</dt>\n",
       "\t\t<dd>76.7682499817229</dd>\n",
       "\t<dt>109</dt>\n",
       "\t\t<dd>75.9181471080204</dd>\n",
       "\t<dt>110</dt>\n",
       "\t\t<dd>72.5177356132103</dd>\n",
       "</dl>\n"
      ],
      "text/latex": [
       "\\begin{description*}\n",
       "\\item[1] 77.2783117059444\n",
       "\\item[2] 77.108291131204\n",
       "\\item[3] 76.4282088322419\n",
       "\\item[4] 72.6877561879508\n",
       "\\item[5] 76.0881676827609\n",
       "\\item[6] 74.3879619353558\n",
       "\\item[7] 77.2783117059445\n",
       "\\item[8] 77.6183528554255\n",
       "\\item[9] 77.448332280685\n",
       "\\item[10] 76.7682499817229\n",
       "\\item[11] 74.2179413606153\n",
       "\\item[12] 77.108291131204\n",
       "\\item[13] 75.4080853837989\n",
       "\\item[14] 76.9382705564635\n",
       "\\item[15] 74.7280030848369\n",
       "\\item[16] 68.2672212446976\n",
       "\\item[17] 77.448332280685\n",
       "\\item[18] 75.0680442343179\n",
       "\\item[19] 77.448332280685\n",
       "\\item[20] 78.468455729128\n",
       "\\item[21] 76.7682499817229\n",
       "\\item[22] 78.468455729128\n",
       "\\item[23] 77.6183528554255\n",
       "\\item[24] 74.2179413606153\n",
       "\\item[25] 76.9382705564635\n",
       "\\item[26] 74.3879619353558\n",
       "\\item[27] 76.7682499817229\n",
       "\\item[28] 76.7682499817229\n",
       "\\item[29] 76.7682499817229\n",
       "\\item[30] 77.448332280685\n",
       "\\item[31] 74.2179413606153\n",
       "\\item[32] 72.5177356132103\n",
       "\\item[33] 77.2783117059445\n",
       "\\item[34] 75.7481265332799\n",
       "\\item[35] 75.9181471080204\n",
       "\\item[36] 77.6183528554255\n",
       "\\item[37] 71.6676327395077\n",
       "\\item[38] 75.4080853837989\n",
       "\\item[39] 76.2581882575014\n",
       "\\item[40] 78.6384763038685\n",
       "\\item[41] 75.7481265332799\n",
       "\\item[42] 76.2581882575014\n",
       "\\item[43] 75.9181471080204\n",
       "\\item[44] 76.7682499817229\n",
       "\\item[45] 76.7682499817229\n",
       "\\item[46] 79.14853802809\n",
       "\\item[47] 75.0680442343179\n",
       "\\item[48] 72.5177356132103\n",
       "\\item[49] 76.7682499817229\n",
       "\\item[50] 75.0680442343179\n",
       "\\item[51] 79.9986409017926\n",
       "\\item[52] 74.5579825100964\n",
       "\\item[53] 74.2179413606153\n",
       "\\item[54] 75.5781059585394\n",
       "\\item[55] 76.2581882575014\n",
       "\\item[56] 75.0680442343179\n",
       "\\item[57] 72.5177356132103\n",
       "\\item[58] 78.2984351543875\n",
       "\\item[59] 78.6384763038685\n",
       "\\item[60] 74.2179413606153\n",
       "\\item[61] 73.8779002111343\n",
       "\\item[62] 72.1776944637293\n",
       "\\item[63] 77.788373430166\n",
       "\\item[64] 69.6273858426216\n",
       "\\item[65] 76.4282088322419\n",
       "\\item[66] 78.468455729128\n",
       "\\item[67] 77.2783117059445\n",
       "\\item[68] 73.3678384869128\n",
       "\\item[69] 70.3074681415837\n",
       "\\item[70] 79.8286203270521\n",
       "\\item[71] 72.1776944637293\n",
       "\\item[72] 73.0277973374318\n",
       "\\item[73] 73.3678384869128\n",
       "\\item[74] 78.808496878609\n",
       "\\item[75] 77.9583940049065\n",
       "\\item[77] 77.8733837175362\n",
       "\\item[78] 77.0232808438337\n",
       "\\item[79] 78.2984351543875\n",
       "\\item[80] 73.7078796363938\n",
       "\\item[81] 76.9382705564635\n",
       "\\item[82] 74.8980236595774\n",
       "\\item[83] 74.0479207858748\n",
       "\\item[84] 68.2672212446976\n",
       "\\item[85] 76.2581882575014\n",
       "\\item[86] 69.1173241184001\n",
       "\\item[87] 70.8175298658052\n",
       "\\item[88] 72.0076738889887\n",
       "\\item[89] 78.468455729128\n",
       "\\item[90] 77.788373430166\n",
       "\\item[91] 73.6228693490236\n",
       "\\item[92] 70.6475092910647\n",
       "\\item[93] 72.3477150384698\n",
       "\\item[94] 77.108291131204\n",
       "\\item[95] 77.108291131204\n",
       "\\item[96] 73.7078796363938\n",
       "\\item[97] 75.9181471080204\n",
       "\\item[98] 76.4282088322419\n",
       "\\item[99] 77.6183528554255\n",
       "\\item[100] 76.7682499817229\n",
       "\\item[101] 77.6183528554255\n",
       "\\item[102] 76.2581882575014\n",
       "\\item[103] 76.2581882575014\n",
       "\\item[104] 73.3678384869128\n",
       "\\item[105] 78.9785174533495\n",
       "\\item[106] 82.3789289481597\n",
       "\\item[107] 79.6585997523116\n",
       "\\item[108] 76.7682499817229\n",
       "\\item[109] 75.9181471080204\n",
       "\\item[110] 72.5177356132103\n",
       "\\end{description*}\n"
      ],
      "text/markdown": [
       "1\n",
       ":   77.27831170594442\n",
       ":   77.1082911312043\n",
       ":   76.42820883224194\n",
       ":   72.68775618795085\n",
       ":   76.08816768276096\n",
       ":   74.38796193535587\n",
       ":   77.27831170594458\n",
       ":   77.61835285542559\n",
       ":   77.44833228068510\n",
       ":   76.768249981722911\n",
       ":   74.217941360615312\n",
       ":   77.10829113120413\n",
       ":   75.408085383798914\n",
       ":   76.938270556463515\n",
       ":   74.728003084836916\n",
       ":   68.267221244697617\n",
       ":   77.44833228068518\n",
       ":   75.068044234317919\n",
       ":   77.44833228068520\n",
       ":   78.46845572912821\n",
       ":   76.768249981722922\n",
       ":   78.46845572912823\n",
       ":   77.618352855425524\n",
       ":   74.217941360615325\n",
       ":   76.938270556463526\n",
       ":   74.387961935355827\n",
       ":   76.768249981722928\n",
       ":   76.768249981722929\n",
       ":   76.768249981722930\n",
       ":   77.44833228068531\n",
       ":   74.217941360615332\n",
       ":   72.517735613210333\n",
       ":   77.278311705944534\n",
       ":   75.748126533279935\n",
       ":   75.918147108020436\n",
       ":   77.618352855425537\n",
       ":   71.667632739507738\n",
       ":   75.408085383798939\n",
       ":   76.258188257501440\n",
       ":   78.638476303868541\n",
       ":   75.748126533279942\n",
       ":   76.258188257501443\n",
       ":   75.918147108020444\n",
       ":   76.768249981722945\n",
       ":   76.768249981722946\n",
       ":   79.1485380280947\n",
       ":   75.068044234317948\n",
       ":   72.517735613210349\n",
       ":   76.768249981722950\n",
       ":   75.068044234317951\n",
       ":   79.998640901792652\n",
       ":   74.557982510096453\n",
       ":   74.217941360615354\n",
       ":   75.578105958539455\n",
       ":   76.258188257501456\n",
       ":   75.068044234317957\n",
       ":   72.517735613210358\n",
       ":   78.298435154387559\n",
       ":   78.638476303868560\n",
       ":   74.217941360615361\n",
       ":   73.877900211134362\n",
       ":   72.177694463729363\n",
       ":   77.78837343016664\n",
       ":   69.627385842621665\n",
       ":   76.428208832241966\n",
       ":   78.46845572912867\n",
       ":   77.278311705944568\n",
       ":   73.367838486912869\n",
       ":   70.307468141583770\n",
       ":   79.828620327052171\n",
       ":   72.177694463729372\n",
       ":   73.027797337431873\n",
       ":   73.367838486912874\n",
       ":   78.80849687860975\n",
       ":   77.958394004906577\n",
       ":   77.873383717536278\n",
       ":   77.023280843833779\n",
       ":   78.298435154387580\n",
       ":   73.707879636393881\n",
       ":   76.938270556463582\n",
       ":   74.898023659577483\n",
       ":   74.047920785874884\n",
       ":   68.267221244697685\n",
       ":   76.258188257501486\n",
       ":   69.117324118400187\n",
       ":   70.817529865805288\n",
       ":   72.007673888988789\n",
       ":   78.46845572912890\n",
       ":   77.78837343016691\n",
       ":   73.622869349023692\n",
       ":   70.647509291064793\n",
       ":   72.347715038469894\n",
       ":   77.10829113120495\n",
       ":   77.10829113120496\n",
       ":   73.707879636393897\n",
       ":   75.918147108020498\n",
       ":   76.428208832241999\n",
       ":   77.6183528554255100\n",
       ":   76.7682499817229101\n",
       ":   77.6183528554255102\n",
       ":   76.2581882575014103\n",
       ":   76.2581882575014104\n",
       ":   73.3678384869128105\n",
       ":   78.9785174533495106\n",
       ":   82.3789289481597107\n",
       ":   79.6585997523116108\n",
       ":   76.7682499817229109\n",
       ":   75.9181471080204110\n",
       ":   72.5177356132103\n",
       "\n"
      ],
      "text/plain": [
       "       1        2        3        4        5        6        7        8 \n",
       "77.27831 77.10829 76.42821 72.68776 76.08817 74.38796 77.27831 77.61835 \n",
       "       9       10       11       12       13       14       15       16 \n",
       "77.44833 76.76825 74.21794 77.10829 75.40809 76.93827 74.72800 68.26722 \n",
       "      17       18       19       20       21       22       23       24 \n",
       "77.44833 75.06804 77.44833 78.46846 76.76825 78.46846 77.61835 74.21794 \n",
       "      25       26       27       28       29       30       31       32 \n",
       "76.93827 74.38796 76.76825 76.76825 76.76825 77.44833 74.21794 72.51774 \n",
       "      33       34       35       36       37       38       39       40 \n",
       "77.27831 75.74813 75.91815 77.61835 71.66763 75.40809 76.25819 78.63848 \n",
       "      41       42       43       44       45       46       47       48 \n",
       "75.74813 76.25819 75.91815 76.76825 76.76825 79.14854 75.06804 72.51774 \n",
       "      49       50       51       52       53       54       55       56 \n",
       "76.76825 75.06804 79.99864 74.55798 74.21794 75.57811 76.25819 75.06804 \n",
       "      57       58       59       60       61       62       63       64 \n",
       "72.51774 78.29844 78.63848 74.21794 73.87790 72.17769 77.78837 69.62739 \n",
       "      65       66       67       68       69       70       71       72 \n",
       "76.42821 78.46846 77.27831 73.36784 70.30747 79.82862 72.17769 73.02780 \n",
       "      73       74       75       77       78       79       80       81 \n",
       "73.36784 78.80850 77.95839 77.87338 77.02328 78.29844 73.70788 76.93827 \n",
       "      82       83       84       85       86       87       88       89 \n",
       "74.89802 74.04792 68.26722 76.25819 69.11732 70.81753 72.00767 78.46846 \n",
       "      90       91       92       93       94       95       96       97 \n",
       "77.78837 73.62287 70.64751 72.34772 77.10829 77.10829 73.70788 75.91815 \n",
       "      98       99      100      101      102      103      104      105 \n",
       "76.42821 77.61835 76.76825 77.61835 76.25819 76.25819 73.36784 78.97852 \n",
       "     106      107      108      109      110 \n",
       "82.37893 79.65860 76.76825 75.91815 72.51774 "
      ]
     },
     "metadata": {},
     "output_type": "display_data"
    },
    {
     "data": {
      "text/html": [
       "<dl class=dl-horizontal>\n",
       "\t<dt>1</dt>\n",
       "\t\t<dd>8.72168829405559</dd>\n",
       "\t<dt>2</dt>\n",
       "\t\t<dd>4.89170886879603</dd>\n",
       "\t<dt>3</dt>\n",
       "\t\t<dd>19.5717911677581</dd>\n",
       "\t<dt>4</dt>\n",
       "\t\t<dd>-1.68775618795077</dd>\n",
       "\t<dt>5</dt>\n",
       "\t\t<dd>13.9118323172391</dd>\n",
       "\t<dt>6</dt>\n",
       "\t\t<dd>3.61203806464415</dd>\n",
       "\t<dt>7</dt>\n",
       "\t\t<dd>-9.27831170594447</dd>\n",
       "\t<dt>8</dt>\n",
       "\t\t<dd>-6.61835285542548</dd>\n",
       "\t<dt>9</dt>\n",
       "\t\t<dd>-9.44833228068497</dd>\n",
       "\t<dt>10</dt>\n",
       "\t\t<dd>11.2317500182771</dd>\n",
       "\t<dt>11</dt>\n",
       "\t\t<dd>1.78205863938466</dd>\n",
       "\t<dt>12</dt>\n",
       "\t\t<dd>-3.10829113120396</dd>\n",
       "\t<dt>13</dt>\n",
       "\t\t<dd>-5.40808538379889</dd>\n",
       "\t<dt>14</dt>\n",
       "\t\t<dd>1.06172944353655</dd>\n",
       "\t<dt>15</dt>\n",
       "\t\t<dd>-5.72800308483686</dd>\n",
       "\t<dt>16</dt>\n",
       "\t\t<dd>8.73277875530241</dd>\n",
       "\t<dt>17</dt>\n",
       "\t\t<dd>-13.448332280685</dd>\n",
       "\t<dt>18</dt>\n",
       "\t\t<dd>4.93195576568213</dd>\n",
       "\t<dt>19</dt>\n",
       "\t\t<dd>5.55166771931502</dd>\n",
       "\t<dt>20</dt>\n",
       "\t\t<dd>-0.468455729128019</dd>\n",
       "\t<dt>21</dt>\n",
       "\t\t<dd>11.2317500182771</dd>\n",
       "\t<dt>22</dt>\n",
       "\t\t<dd>-8.46845572912802</dd>\n",
       "\t<dt>23</dt>\n",
       "\t\t<dd>0.381647144574517</dd>\n",
       "\t<dt>24</dt>\n",
       "\t\t<dd>5.78205863938466</dd>\n",
       "\t<dt>25</dt>\n",
       "\t\t<dd>-8.93827055646345</dd>\n",
       "\t<dt>26</dt>\n",
       "\t\t<dd>-4.38796193535585</dd>\n",
       "\t<dt>27</dt>\n",
       "\t\t<dd>-14.7682499817229</dd>\n",
       "\t<dt>28</dt>\n",
       "\t\t<dd>4.23175001827705</dd>\n",
       "\t<dt>29</dt>\n",
       "\t\t<dd>1.23175001827705</dd>\n",
       "\t<dt>30</dt>\n",
       "\t\t<dd>8.55166771931502</dd>\n",
       "\t<dt>31</dt>\n",
       "\t\t<dd>-15.2179413606153</dd>\n",
       "\t<dt>32</dt>\n",
       "\t\t<dd>-4.51773561321027</dd>\n",
       "\t<dt>33</dt>\n",
       "\t\t<dd>-2.27831170594447</dd>\n",
       "\t<dt>34</dt>\n",
       "\t\t<dd>-1.7481265332799</dd>\n",
       "\t<dt>35</dt>\n",
       "\t\t<dd>-15.9181471080204</dd>\n",
       "\t<dt>36</dt>\n",
       "\t\t<dd>-7.61835285542548</dd>\n",
       "\t<dt>37</dt>\n",
       "\t\t<dd>8.33236726049227</dd>\n",
       "\t<dt>38</dt>\n",
       "\t\t<dd>-17.4080853837989</dd>\n",
       "\t<dt>39</dt>\n",
       "\t\t<dd>7.74181174249857</dd>\n",
       "\t<dt>40</dt>\n",
       "\t\t<dd>25.3615236961315</dd>\n",
       "\t<dt>41</dt>\n",
       "\t\t<dd>-9.7481265332799</dd>\n",
       "\t<dt>42</dt>\n",
       "\t\t<dd>7.74181174249857</dd>\n",
       "\t<dt>43</dt>\n",
       "\t\t<dd>-10.9181471080204</dd>\n",
       "\t<dt>44</dt>\n",
       "\t\t<dd>3.23175001827705</dd>\n",
       "\t<dt>45</dt>\n",
       "\t\t<dd>-10.7682499817229</dd>\n",
       "\t<dt>46</dt>\n",
       "\t\t<dd>24.85146197191</dd>\n",
       "\t<dt>47</dt>\n",
       "\t\t<dd>0.931955765682125</dd>\n",
       "\t<dt>48</dt>\n",
       "\t\t<dd>-2.51773561321027</dd>\n",
       "\t<dt>49</dt>\n",
       "\t\t<dd>-10.7682499817229</dd>\n",
       "\t<dt>50</dt>\n",
       "\t\t<dd>16.9319557656821</dd>\n",
       "\t<dt>51</dt>\n",
       "\t\t<dd>-9.99864090179259</dd>\n",
       "\t<dt>52</dt>\n",
       "\t\t<dd>-11.5579825100964</dd>\n",
       "\t<dt>53</dt>\n",
       "\t\t<dd>-9.21794136061534</dd>\n",
       "\t<dt>54</dt>\n",
       "\t\t<dd>0.421894041460603</dd>\n",
       "\t<dt>55</dt>\n",
       "\t\t<dd>-20.2581882575014</dd>\n",
       "\t<dt>56</dt>\n",
       "\t\t<dd>-11.0680442343179</dd>\n",
       "\t<dt>57</dt>\n",
       "\t\t<dd>-12.5177356132103</dd>\n",
       "\t<dt>58</dt>\n",
       "\t\t<dd>-10.2984351543875</dd>\n",
       "\t<dt>59</dt>\n",
       "\t\t<dd>1.36152369613147</dd>\n",
       "\t<dt>60</dt>\n",
       "\t\t<dd>-9.21794136061534</dd>\n",
       "\t<dt>61</dt>\n",
       "\t\t<dd>-26.8779002111343</dd>\n",
       "\t<dt>62</dt>\n",
       "\t\t<dd>-22.1776944637293</dd>\n",
       "\t<dt>63</dt>\n",
       "\t\t<dd>2.21162656983401</dd>\n",
       "\t<dt>64</dt>\n",
       "\t\t<dd>6.37261415737836</dd>\n",
       "\t<dt>65</dt>\n",
       "\t\t<dd>-6.42820883224193</dd>\n",
       "\t<dt>66</dt>\n",
       "\t\t<dd>-2.46845572912802</dd>\n",
       "\t<dt>67</dt>\n",
       "\t\t<dd>-5.27831170594447</dd>\n",
       "\t<dt>68</dt>\n",
       "\t\t<dd>6.6321615130872</dd>\n",
       "\t<dt>69</dt>\n",
       "\t\t<dd>5.69253185841633</dd>\n",
       "\t<dt>70</dt>\n",
       "\t\t<dd>5.17137967294792</dd>\n",
       "\t<dt>71</dt>\n",
       "\t\t<dd>-23.1776944637293</dd>\n",
       "\t<dt>72</dt>\n",
       "\t\t<dd>2.97220266256821</dd>\n",
       "\t<dt>73</dt>\n",
       "\t\t<dd>71.6321615130872</dd>\n",
       "\t<dt>74</dt>\n",
       "\t\t<dd>4.19150312139097</dd>\n",
       "\t<dt>75</dt>\n",
       "\t\t<dd>-5.9583940049065</dd>\n",
       "\t<dt>77</dt>\n",
       "\t\t<dd>-17.8733837175362</dd>\n",
       "\t<dt>78</dt>\n",
       "\t\t<dd>2.97671915616629</dd>\n",
       "\t<dt>79</dt>\n",
       "\t\t<dd>-8.29843515438751</dd>\n",
       "\t<dt>80</dt>\n",
       "\t\t<dd>-5.70787963639382</dd>\n",
       "\t<dt>81</dt>\n",
       "\t\t<dd>1.06172944353655</dd>\n",
       "\t<dt>82</dt>\n",
       "\t\t<dd>-22.8980236595774</dd>\n",
       "\t<dt>83</dt>\n",
       "\t\t<dd>-0.0479207858748322</dd>\n",
       "\t<dt>84</dt>\n",
       "\t\t<dd>6.73277875530241</dd>\n",
       "\t<dt>85</dt>\n",
       "\t\t<dd>-4.25818825750143</dd>\n",
       "\t<dt>86</dt>\n",
       "\t\t<dd>10.8826758815999</dd>\n",
       "\t<dt>87</dt>\n",
       "\t\t<dd>13.1824701341948</dd>\n",
       "\t<dt>88</dt>\n",
       "\t\t<dd>1.99232611101125</dd>\n",
       "\t<dt>89</dt>\n",
       "\t\t<dd>11.531544270872</dd>\n",
       "\t<dt>90</dt>\n",
       "\t\t<dd>-16.788373430166</dd>\n",
       "\t<dt>91</dt>\n",
       "\t\t<dd>11.3771306509764</dd>\n",
       "\t<dt>92</dt>\n",
       "\t\t<dd>7.35249070893531</dd>\n",
       "\t<dt>93</dt>\n",
       "\t\t<dd>3.65228496153024</dd>\n",
       "\t<dt>94</dt>\n",
       "\t\t<dd>12.891708868796</dd>\n",
       "\t<dt>95</dt>\n",
       "\t\t<dd>-13.108291131204</dd>\n",
       "\t<dt>96</dt>\n",
       "\t\t<dd>-9.70787963639382</dd>\n",
       "\t<dt>97</dt>\n",
       "\t\t<dd>12.0818528919796</dd>\n",
       "\t<dt>98</dt>\n",
       "\t\t<dd>-12.4282088322419</dd>\n",
       "\t<dt>99</dt>\n",
       "\t\t<dd>4.38164714457452</dd>\n",
       "\t<dt>100</dt>\n",
       "\t\t<dd>11.2317500182771</dd>\n",
       "\t<dt>101</dt>\n",
       "\t\t<dd>-3.61835285542548</dd>\n",
       "\t<dt>102</dt>\n",
       "\t\t<dd>11.7418117424986</dd>\n",
       "\t<dt>103</dt>\n",
       "\t\t<dd>15.7418117424986</dd>\n",
       "\t<dt>104</dt>\n",
       "\t\t<dd>2.6321615130872</dd>\n",
       "\t<dt>105</dt>\n",
       "\t\t<dd>-7.97851745334954</dd>\n",
       "\t<dt>106</dt>\n",
       "\t\t<dd>36.6210710518403</dd>\n",
       "\t<dt>107</dt>\n",
       "\t\t<dd>10.3414002476884</dd>\n",
       "\t<dt>108</dt>\n",
       "\t\t<dd>9.23175001827705</dd>\n",
       "\t<dt>109</dt>\n",
       "\t\t<dd>-6.91814710802041</dd>\n",
       "\t<dt>110</dt>\n",
       "\t\t<dd>2.48226438678973</dd>\n",
       "</dl>\n"
      ],
      "text/latex": [
       "\\begin{description*}\n",
       "\\item[1] 8.72168829405559\n",
       "\\item[2] 4.89170886879603\n",
       "\\item[3] 19.5717911677581\n",
       "\\item[4] -1.68775618795077\n",
       "\\item[5] 13.9118323172391\n",
       "\\item[6] 3.61203806464415\n",
       "\\item[7] -9.27831170594447\n",
       "\\item[8] -6.61835285542548\n",
       "\\item[9] -9.44833228068497\n",
       "\\item[10] 11.2317500182771\n",
       "\\item[11] 1.78205863938466\n",
       "\\item[12] -3.10829113120396\n",
       "\\item[13] -5.40808538379889\n",
       "\\item[14] 1.06172944353655\n",
       "\\item[15] -5.72800308483686\n",
       "\\item[16] 8.73277875530241\n",
       "\\item[17] -13.448332280685\n",
       "\\item[18] 4.93195576568213\n",
       "\\item[19] 5.55166771931502\n",
       "\\item[20] -0.468455729128019\n",
       "\\item[21] 11.2317500182771\n",
       "\\item[22] -8.46845572912802\n",
       "\\item[23] 0.381647144574517\n",
       "\\item[24] 5.78205863938466\n",
       "\\item[25] -8.93827055646345\n",
       "\\item[26] -4.38796193535585\n",
       "\\item[27] -14.7682499817229\n",
       "\\item[28] 4.23175001827705\n",
       "\\item[29] 1.23175001827705\n",
       "\\item[30] 8.55166771931502\n",
       "\\item[31] -15.2179413606153\n",
       "\\item[32] -4.51773561321027\n",
       "\\item[33] -2.27831170594447\n",
       "\\item[34] -1.7481265332799\n",
       "\\item[35] -15.9181471080204\n",
       "\\item[36] -7.61835285542548\n",
       "\\item[37] 8.33236726049227\n",
       "\\item[38] -17.4080853837989\n",
       "\\item[39] 7.74181174249857\n",
       "\\item[40] 25.3615236961315\n",
       "\\item[41] -9.7481265332799\n",
       "\\item[42] 7.74181174249857\n",
       "\\item[43] -10.9181471080204\n",
       "\\item[44] 3.23175001827705\n",
       "\\item[45] -10.7682499817229\n",
       "\\item[46] 24.85146197191\n",
       "\\item[47] 0.931955765682125\n",
       "\\item[48] -2.51773561321027\n",
       "\\item[49] -10.7682499817229\n",
       "\\item[50] 16.9319557656821\n",
       "\\item[51] -9.99864090179259\n",
       "\\item[52] -11.5579825100964\n",
       "\\item[53] -9.21794136061534\n",
       "\\item[54] 0.421894041460603\n",
       "\\item[55] -20.2581882575014\n",
       "\\item[56] -11.0680442343179\n",
       "\\item[57] -12.5177356132103\n",
       "\\item[58] -10.2984351543875\n",
       "\\item[59] 1.36152369613147\n",
       "\\item[60] -9.21794136061534\n",
       "\\item[61] -26.8779002111343\n",
       "\\item[62] -22.1776944637293\n",
       "\\item[63] 2.21162656983401\n",
       "\\item[64] 6.37261415737836\n",
       "\\item[65] -6.42820883224193\n",
       "\\item[66] -2.46845572912802\n",
       "\\item[67] -5.27831170594447\n",
       "\\item[68] 6.6321615130872\n",
       "\\item[69] 5.69253185841633\n",
       "\\item[70] 5.17137967294792\n",
       "\\item[71] -23.1776944637293\n",
       "\\item[72] 2.97220266256821\n",
       "\\item[73] 71.6321615130872\n",
       "\\item[74] 4.19150312139097\n",
       "\\item[75] -5.9583940049065\n",
       "\\item[77] -17.8733837175362\n",
       "\\item[78] 2.97671915616629\n",
       "\\item[79] -8.29843515438751\n",
       "\\item[80] -5.70787963639382\n",
       "\\item[81] 1.06172944353655\n",
       "\\item[82] -22.8980236595774\n",
       "\\item[83] -0.0479207858748322\n",
       "\\item[84] 6.73277875530241\n",
       "\\item[85] -4.25818825750143\n",
       "\\item[86] 10.8826758815999\n",
       "\\item[87] 13.1824701341948\n",
       "\\item[88] 1.99232611101125\n",
       "\\item[89] 11.531544270872\n",
       "\\item[90] -16.788373430166\n",
       "\\item[91] 11.3771306509764\n",
       "\\item[92] 7.35249070893531\n",
       "\\item[93] 3.65228496153024\n",
       "\\item[94] 12.891708868796\n",
       "\\item[95] -13.108291131204\n",
       "\\item[96] -9.70787963639382\n",
       "\\item[97] 12.0818528919796\n",
       "\\item[98] -12.4282088322419\n",
       "\\item[99] 4.38164714457452\n",
       "\\item[100] 11.2317500182771\n",
       "\\item[101] -3.61835285542548\n",
       "\\item[102] 11.7418117424986\n",
       "\\item[103] 15.7418117424986\n",
       "\\item[104] 2.6321615130872\n",
       "\\item[105] -7.97851745334954\n",
       "\\item[106] 36.6210710518403\n",
       "\\item[107] 10.3414002476884\n",
       "\\item[108] 9.23175001827705\n",
       "\\item[109] -6.91814710802041\n",
       "\\item[110] 2.48226438678973\n",
       "\\end{description*}\n"
      ],
      "text/markdown": [
       "1\n",
       ":   8.721688294055592\n",
       ":   4.891708868796033\n",
       ":   19.57179116775814\n",
       ":   -1.687756187950775\n",
       ":   13.91183231723916\n",
       ":   3.612038064644157\n",
       ":   -9.278311705944478\n",
       ":   -6.618352855425489\n",
       ":   -9.4483322806849710\n",
       ":   11.231750018277111\n",
       ":   1.7820586393846612\n",
       ":   -3.1082911312039613\n",
       ":   -5.4080853837988914\n",
       ":   1.0617294435365515\n",
       ":   -5.7280030848368616\n",
       ":   8.7327787553024117\n",
       ":   -13.44833228068518\n",
       ":   4.9319557656821319\n",
       ":   5.5516677193150220\n",
       ":   -0.46845572912801921\n",
       ":   11.231750018277122\n",
       ":   -8.4684557291280223\n",
       ":   0.38164714457451724\n",
       ":   5.7820586393846625\n",
       ":   -8.9382705564634526\n",
       ":   -4.3879619353558527\n",
       ":   -14.768249981722928\n",
       ":   4.2317500182770529\n",
       ":   1.2317500182770530\n",
       ":   8.5516677193150231\n",
       ":   -15.217941360615332\n",
       ":   -4.5177356132102733\n",
       ":   -2.2783117059444734\n",
       ":   -1.748126533279935\n",
       ":   -15.918147108020436\n",
       ":   -7.6183528554254837\n",
       ":   8.3323672604922738\n",
       ":   -17.408085383798939\n",
       ":   7.7418117424985740\n",
       ":   25.361523696131541\n",
       ":   -9.748126533279942\n",
       ":   7.7418117424985743\n",
       ":   -10.918147108020444\n",
       ":   3.2317500182770545\n",
       ":   -10.768249981722946\n",
       ":   24.8514619719147\n",
       ":   0.93195576568212548\n",
       ":   -2.5177356132102749\n",
       ":   -10.768249981722950\n",
       ":   16.931955765682151\n",
       ":   -9.9986409017925952\n",
       ":   -11.557982510096453\n",
       ":   -9.2179413606153454\n",
       ":   0.42189404146060355\n",
       ":   -20.258188257501456\n",
       ":   -11.068044234317957\n",
       ":   -12.517735613210358\n",
       ":   -10.298435154387559\n",
       ":   1.3615236961314760\n",
       ":   -9.2179413606153461\n",
       ":   -26.877900211134362\n",
       ":   -22.177694463729363\n",
       ":   2.2116265698340164\n",
       ":   6.3726141573783665\n",
       ":   -6.4282088322419366\n",
       ":   -2.4684557291280267\n",
       ":   -5.2783117059444768\n",
       ":   6.632161513087269\n",
       ":   5.6925318584163370\n",
       ":   5.1713796729479271\n",
       ":   -23.177694463729372\n",
       ":   2.9722026625682173\n",
       ":   71.632161513087274\n",
       ":   4.1915031213909775\n",
       ":   -5.958394004906577\n",
       ":   -17.873383717536278\n",
       ":   2.9767191561662979\n",
       ":   -8.2984351543875180\n",
       ":   -5.7078796363938281\n",
       ":   1.0617294435365582\n",
       ":   -22.898023659577483\n",
       ":   -0.047920785874832284\n",
       ":   6.7327787553024185\n",
       ":   -4.2581882575014386\n",
       ":   10.882675881599987\n",
       ":   13.182470134194888\n",
       ":   1.9923261110112589\n",
       ":   11.53154427087290\n",
       ":   -16.78837343016691\n",
       ":   11.377130650976492\n",
       ":   7.3524907089353193\n",
       ":   3.6522849615302494\n",
       ":   12.89170886879695\n",
       ":   -13.10829113120496\n",
       ":   -9.7078796363938297\n",
       ":   12.081852891979698\n",
       ":   -12.428208832241999\n",
       ":   4.38164714457452100\n",
       ":   11.2317500182771101\n",
       ":   -3.61835285542548102\n",
       ":   11.7418117424986103\n",
       ":   15.7418117424986104\n",
       ":   2.6321615130872105\n",
       ":   -7.97851745334954106\n",
       ":   36.6210710518403107\n",
       ":   10.3414002476884108\n",
       ":   9.23175001827705109\n",
       ":   -6.91814710802041110\n",
       ":   2.48226438678973\n",
       "\n"
      ],
      "text/plain": [
       "           1            2            3            4            5            6 \n",
       "  8.72168829   4.89170887  19.57179117  -1.68775619  13.91183232   3.61203806 \n",
       "           7            8            9           10           11           12 \n",
       " -9.27831171  -6.61835286  -9.44833228  11.23175002   1.78205864  -3.10829113 \n",
       "          13           14           15           16           17           18 \n",
       " -5.40808538   1.06172944  -5.72800308   8.73277876 -13.44833228   4.93195577 \n",
       "          19           20           21           22           23           24 \n",
       "  5.55166772  -0.46845573  11.23175002  -8.46845573   0.38164714   5.78205864 \n",
       "          25           26           27           28           29           30 \n",
       " -8.93827056  -4.38796194 -14.76824998   4.23175002   1.23175002   8.55166772 \n",
       "          31           32           33           34           35           36 \n",
       "-15.21794136  -4.51773561  -2.27831171  -1.74812653 -15.91814711  -7.61835286 \n",
       "          37           38           39           40           41           42 \n",
       "  8.33236726 -17.40808538   7.74181174  25.36152370  -9.74812653   7.74181174 \n",
       "          43           44           45           46           47           48 \n",
       "-10.91814711   3.23175002 -10.76824998  24.85146197   0.93195577  -2.51773561 \n",
       "          49           50           51           52           53           54 \n",
       "-10.76824998  16.93195577  -9.99864090 -11.55798251  -9.21794136   0.42189404 \n",
       "          55           56           57           58           59           60 \n",
       "-20.25818826 -11.06804423 -12.51773561 -10.29843515   1.36152370  -9.21794136 \n",
       "          61           62           63           64           65           66 \n",
       "-26.87790021 -22.17769446   2.21162657   6.37261416  -6.42820883  -2.46845573 \n",
       "          67           68           69           70           71           72 \n",
       " -5.27831171   6.63216151   5.69253186   5.17137967 -23.17769446   2.97220266 \n",
       "          73           74           75           77           78           79 \n",
       " 71.63216151   4.19150312  -5.95839400 -17.87338372   2.97671916  -8.29843515 \n",
       "          80           81           82           83           84           85 \n",
       " -5.70787964   1.06172944 -22.89802366  -0.04792079   6.73277876  -4.25818826 \n",
       "          86           87           88           89           90           91 \n",
       " 10.88267588  13.18247013   1.99232611  11.53154427 -16.78837343  11.37713065 \n",
       "          92           93           94           95           96           97 \n",
       "  7.35249071   3.65228496  12.89170887 -13.10829113  -9.70787964  12.08185289 \n",
       "          98           99          100          101          102          103 \n",
       "-12.42820883   4.38164714  11.23175002  -3.61835286  11.74181174  15.74181174 \n",
       "         104          105          106          107          108          109 \n",
       "  2.63216151  -7.97851745  36.62107105  10.34140025   9.23175002  -6.91814711 \n",
       "         110 \n",
       "  2.48226439 "
      ]
     },
     "metadata": {},
     "output_type": "display_data"
    }
   ],
   "source": [
    "fitted(reg.fit)\n",
    "residuals(reg.fit)"
   ]
  },
  {
   "cell_type": "markdown",
   "metadata": {},
   "source": [
    "For anything other than a very small data set, outputting fitted values and residuals is not practical. However, plots containing these are sometimes of interest. For example, a histogram of residuals is useful for assessing the normality assumption."
   ]
  },
  {
   "cell_type": "code",
   "execution_count": 11,
   "metadata": {},
   "outputs": [
    {
     "data": {
      "image/png": "[encoded data removed]",
      "text/plain": [
       "Plot with title “Histogram of residuals(reg.fit)”"
      ]
     },
     "metadata": {},
     "output_type": "display_data"
    }
   ],
   "source": [
    "hist(residuals(reg.fit))"
   ]
  },
  {
   "cell_type": "markdown",
   "metadata": {},
   "source": [
    "A scatterplot of residuals versus fitted values can be obtained in a similar fashion."
   ]
  },
  {
   "cell_type": "code",
   "execution_count": 12,
   "metadata": {},
   "outputs": [
    {
     "data": {
      "image/png": "[encoded data removed]",
      "text/plain": [
       "plot without title"
      ]
     },
     "metadata": {},
     "output_type": "display_data"
    }
   ],
   "source": [
    "plot(fitted(reg.fit), residuals(reg.fit))"
   ]
  },
  {
   "cell_type": "markdown",
   "metadata": {},
   "source": [
    "It might be helpful to assign the results of the `residual` and `fitted` functions to objects which can then be used in other functions."
   ]
  },
  {
   "cell_type": "code",
   "execution_count": 13,
   "metadata": {},
   "outputs": [
    {
     "data": {
      "image/png": "[encoded data removed]",
      "text/plain": [
       "Plot with title “Histogram of resid”"
      ]
     },
     "metadata": {},
     "output_type": "display_data"
    },
    {
     "data": {
      "image/png": "[encoded data removed]",
      "text/plain": [
       "plot without title"
      ]
     },
     "metadata": {},
     "output_type": "display_data"
    }
   ],
   "source": [
    "pred.values <- fitted(reg.fit)\n",
    "resid <- residuals(reg.fit)\n",
    "hist(resid)\n",
    "plot(pred.values, resid)"
   ]
  },
  {
   "cell_type": "markdown",
   "metadata": {},
   "source": [
    "$(c)$ **Pearson correlation:** The `cor` function will compute the correlation."
   ]
  },
  {
   "cell_type": "code",
   "execution_count": null,
   "metadata": {},
   "outputs": [],
   "source": [
    "cor(Pulse$Weight, Pulse$Pulse1)"
   ]
  },
  {
   "cell_type": "markdown",
   "metadata": {},
   "source": [
    "Unfortunately, this did not appear to work, since the result is `NA`. What is the problem? If we look at the data, observation 76 has a missing value for *Pulse1*. How does the `cor` function handle missing data? Let's look at the documentation.\n",
    "\n",
    "Executing either of the following commands will bring up the documentation on the **cor** function\n",
    "\n",
    " `help(cor)`\n",
    " \n",
    " `cor`\n",
    "\n",
    "\n",
    "or by searching for `cor` in the Help tab in RStudio. The function syntax is given below.\n",
    "\n",
    "`cor(x, y = NULL, use = \"everything\", method = c(\"pearson\", \"kendall\", \"spearman\"))`\n",
    "\n",
    "#\n",
    "What does the `use = \"everything\"` argument do? \n",
    "\n",
    "In the \"Arguments\" section we find\n",
    "\n",
    "> use -- an optional character string giving a method for computing covariances in the presence of missing values. This must be (an abbreviation of) one of the strings \"everything\", \"all.obs\", \"complete.obs\", \"na.or.complete\" or \"pairwise.complete.obs\"\n",
    "        \n",
    "***\n",
    "In the \"Details\" section we find\n",
    "\n",
    ">If use is \"everything\", NAs will propagate conceptually, i.e., a resulting value will be NA whenever one of its contributing observations is NA.  \n",
    "\n",
    ">If use is \"all.obs\", then the presence of missing observations will produce an error. If use is \"complete.obs\" then missing values are handled by casewise deletion (and if there are no complete cases, that gives an error).   \n",
    "\n",
    "> \"na.or.complete\" is the same unless there are no complete cases, that gives NA.  \n",
    "\n",
    "> Finally, if use has the value \"pairwise.complete.obs\" then the correlation or covariance between each pair of variables is computed using all complete pairs of observations on those variables. This can result in covariance or correlation matrices which are not positive semi-definite, as well as NA entries if there are no complete pairs for that pair of variables. For cov and var, \"pairwise.complete.obs\" only works with the \"pearson\" method. Note that (the equivalent of) var(double(0), use = *) gives NA for use = \"everything\" and \"na.or.complete\", and gives an error in the other cases.  \n",
    "\n",
    "Thus, by default, the `cor` function will only return a value if all pairs are nonmissing. In this case, we can fixed the problem by changing the **use** argument."
   ]
  },
  {
   "cell_type": "code",
   "execution_count": 14,
   "metadata": {},
   "outputs": [
    {
     "data": {
      "text/html": [
       "-0.194665742717986"
      ],
      "text/latex": [
       "-0.194665742717986"
      ],
      "text/markdown": [
       "-0.194665742717986"
      ],
      "text/plain": [
       "[1] -0.1946657"
      ]
     },
     "metadata": {},
     "output_type": "display_data"
    }
   ],
   "source": [
    "cor(Pulse$Pulse1,Pulse$Weight, use=\"pairwise.complete.obs\")"
   ]
  },
  {
   "cell_type": "markdown",
   "metadata": {},
   "source": [
    "Finally, the `cor.test` function will return a confidence interval and p-value for the test of nonzero correlation."
   ]
  },
  {
   "cell_type": "code",
   "execution_count": 15,
   "metadata": {},
   "outputs": [
    {
     "data": {
      "text/plain": [
       "\n",
       "\tPearson's product-moment correlation\n",
       "\n",
       "data:  Pulse$Pulse1 and Pulse$Weight\n",
       "t = -2.0529, df = 107, p-value = 0.04252\n",
       "alternative hypothesis: true correlation is not equal to 0\n",
       "95 percent confidence interval:\n",
       " -0.369246770 -0.006813511\n",
       "sample estimates:\n",
       "       cor \n",
       "-0.1946657 \n"
      ]
     },
     "metadata": {},
     "output_type": "display_data"
    }
   ],
   "source": [
    "cor.test(Pulse$Pulse1, Pulse$Weight, use=\"pairwise.complete.obs\")"
   ]
  },
  {
   "cell_type": "markdown",
   "metadata": {},
   "source": [
    "#### Explore the relationship between the initial pulse measurement and smoking status.\n",
    "\n",
    "(a) **Boxplot** of Pulse1 by smoking status. We want create two boxplots, one for smokers and one for nonsmokers. There are several ways to do this, and we will illustrate two. First, create individual boxplots for each *Smokes* category (smokers, nonsmokers). We do this by evaluating the Pulse1 variable only for observations where *Smokes* is at a single level."
   ]
  },
  {
   "cell_type": "code",
   "execution_count": 16,
   "metadata": {},
   "outputs": [
    {
     "data": {
      "image/png": "[encoded data removed]",
      "text/plain": [
       "plot without title"
      ]
     },
     "metadata": {},
     "output_type": "display_data"
    }
   ],
   "source": [
    "boxplot(Pulse$Pulse1[Pulse$Smokes==1])"
   ]
  },
  {
   "cell_type": "code",
   "execution_count": 17,
   "metadata": {},
   "outputs": [
    {
     "data": {
      "image/png": "[encoded data removed]",
      "text/plain": [
       "plot without title"
      ]
     },
     "metadata": {},
     "output_type": "display_data"
    }
   ],
   "source": [
    "boxplot(Pulse$Pulse1[Pulse$Smokes==2])"
   ]
  },
  {
   "cell_type": "markdown",
   "metadata": {},
   "source": [
    "Next, to get side-by-side plots in the same graph, we first show how to use the `factor()` function to create a new variable that transforms *Smokes* into a factor variable called Smokes.factor, and then use the function argument in the `boxplot()` function."
   ]
  },
  {
   "cell_type": "code",
   "execution_count": 18,
   "metadata": {},
   "outputs": [
    {
     "data": {
      "image/png": "[encoded data removed]",
      "text/plain": [
       "plot without title"
      ]
     },
     "metadata": {},
     "output_type": "display_data"
    }
   ],
   "source": [
    "Pulse$Smokes.factor <- factor(Pulse$Smokes)\n",
    "boxplot(Pulse1 ~ Smokes, data=Pulse)"
   ]
  },
  {
   "cell_type": "markdown",
   "metadata": {},
   "source": [
    "While the factor function creates a new factor variable, it still uses the original values. Optional arguments can be added to create more descriptive labels:"
   ]
  },
  {
   "cell_type": "code",
   "execution_count": 19,
   "metadata": {},
   "outputs": [],
   "source": [
    "Pulse$Smokes.factor <- factor(Pulse$Smokes,levels=c(1,2)\n",
    "                              ,labels=c(\"Y\",\"N\"))"
   ]
  },
  {
   "cell_type": "markdown",
   "metadata": {},
   "source": [
    "The boxplot will now use the newly defined labels."
   ]
  },
  {
   "cell_type": "code",
   "execution_count": 20,
   "metadata": {},
   "outputs": [
    {
     "data": {
      "image/png": "[encoded data removed]",
      "text/plain": [
       "plot without title"
      ]
     },
     "metadata": {},
     "output_type": "display_data"
    }
   ],
   "source": [
    "boxplot(Pulse$Pulse1 ~ Pulse$Smokes.factor)"
   ]
  },
  {
   "cell_type": "markdown",
   "metadata": {},
   "source": [
    "(b) **Descriptives:** We will also want to compute descriptive measures, such as the mean and standard deviation of Pulse1 for each group."
   ]
  },
  {
   "cell_type": "code",
   "execution_count": 21,
   "metadata": {},
   "outputs": [
    {
     "data": {
      "text/html": [
       "77.5454545454545"
      ],
      "text/latex": [
       "77.5454545454545"
      ],
      "text/markdown": [
       "77.5454545454545"
      ],
      "text/plain": [
       "[1] 77.54545"
      ]
     },
     "metadata": {},
     "output_type": "display_data"
    },
    {
     "data": {
      "text/html": [
       "9.57458757716108"
      ],
      "text/latex": [
       "9.57458757716108"
      ],
      "text/markdown": [
       "9.57458757716108"
      ],
      "text/plain": [
       "[1] 9.574588"
      ]
     },
     "metadata": {},
     "output_type": "display_data"
    },
    {
     "data": {
      "text/html": [
       "&lt;NA&gt;"
      ],
      "text/latex": [
       "<NA>"
      ],
      "text/markdown": [
       "&lt;NA&gt;"
      ],
      "text/plain": [
       "[1] NA"
      ]
     },
     "metadata": {},
     "output_type": "display_data"
    },
    {
     "data": {
      "text/html": [
       "&lt;NA&gt;"
      ],
      "text/latex": [
       "<NA>"
      ],
      "text/markdown": [
       "&lt;NA&gt;"
      ],
      "text/plain": [
       "[1] NA"
      ]
     },
     "metadata": {},
     "output_type": "display_data"
    }
   ],
   "source": [
    "mean(Pulse$Pulse1[Pulse$Smokes==1])\n",
    "sd(Pulse$Pulse1[Pulse$Smokes==1])\n",
    "mean(Pulse$Pulse1[Pulse$Smokes==2])\n",
    "sd(Pulse$Pulse1[Pulse$Smokes==2])"
   ]
  },
  {
   "cell_type": "markdown",
   "metadata": {},
   "source": [
    "Notice that we encounter a problem caused by the missing observation. We find in the documentation of the `mean` function:\n",
    "\n",
    "`mean(x,trim=0,na.rm=FALSE, ...)`\n",
    "\n",
    "`na.rm` - \"a logical value indicating whether NA values should be stripped before the computation proceeds\"\n",
    "\n",
    "This suggests the following fix for the NonSmoker group:"
   ]
  },
  {
   "cell_type": "code",
   "execution_count": 22,
   "metadata": {},
   "outputs": [
    {
     "data": {
      "text/html": [
       "75.4795918367347"
      ],
      "text/latex": [
       "75.4795918367347"
      ],
      "text/markdown": [
       "75.4795918367347"
      ],
      "text/plain": [
       "[1] 75.47959"
      ]
     },
     "metadata": {},
     "output_type": "display_data"
    },
    {
     "data": {
      "text/html": [
       "13.6745904718918"
      ],
      "text/latex": [
       "13.6745904718918"
      ],
      "text/markdown": [
       "13.6745904718918"
      ],
      "text/plain": [
       "[1] 13.67459"
      ]
     },
     "metadata": {},
     "output_type": "display_data"
    }
   ],
   "source": [
    "mean(Pulse$Pulse1[Pulse$Smokes==2], na.rm=T)\n",
    "sd(Pulse$Pulse1[Pulse$Smokes==2], na.rm=T)"
   ]
  },
  {
   "cell_type": "markdown",
   "metadata": {},
   "source": [
    "As an alternative to calculating values for each category separately, a single call to the `tapply` function, using the Smokes.factor variable, will provide results as follows:\n",
    "Notice we again use the `na.rm` argument,"
   ]
  },
  {
   "cell_type": "code",
   "execution_count": 23,
   "metadata": {},
   "outputs": [
    {
     "name": "stderr",
     "output_type": "stream",
     "text": [
      "ERROR while rich displaying an object: Error in dn[[2L]]: subscript out of bounds\n",
      "\n",
      "Traceback:\n",
      "1. FUN(X[[i]], ...)\n",
      "2. tryCatch(withCallingHandlers({\n",
      " .     if (!mime %in% names(repr::mime2repr)) \n",
      " .         stop(\"No repr_* for mimetype \", mime, \" in repr::mime2repr\")\n",
      " .     rpr <- repr::mime2repr[[mime]](obj)\n",
      " .     if (is.null(rpr)) \n",
      " .         return(NULL)\n",
      " .     prepare_content(is.raw(rpr), rpr)\n",
      " . }, error = error_handler), error = outer_handler)\n",
      "3. tryCatchList(expr, classes, parentenv, handlers)\n",
      "4. tryCatchOne(expr, names, parentenv, handlers[[1L]])\n",
      "5. doTryCatch(return(expr), name, parentenv, handler)\n",
      "6. withCallingHandlers({\n",
      " .     if (!mime %in% names(repr::mime2repr)) \n",
      " .         stop(\"No repr_* for mimetype \", mime, \" in repr::mime2repr\")\n",
      " .     rpr <- repr::mime2repr[[mime]](obj)\n",
      " .     if (is.null(rpr)) \n",
      " .         return(NULL)\n",
      " .     prepare_content(is.raw(rpr), rpr)\n",
      " . }, error = error_handler)\n",
      "7. repr::mime2repr[[mime]](obj)\n",
      "8. repr_markdown.numeric(obj)\n",
      "9. repr_vector_generic(html_escape_names(obj), \"%s. %s\\n\", \"%s\\n:   %s\", \n",
      " .     \"**%s:** %s\", \"%s\\n\\n\", item_uses_numbers = TRUE, escape_fun = html_escape)\n",
      "10. html_escape_names(obj)\n",
      "11. .escape_names(obj, \"html\")\n",
      "12. colnames(obj)\n",
      "ERROR while rich displaying an object: Error in dn[[2L]]: subscript out of bounds\n",
      "\n",
      "Traceback:\n",
      "1. FUN(X[[i]], ...)\n",
      "2. tryCatch(withCallingHandlers({\n",
      " .     if (!mime %in% names(repr::mime2repr)) \n",
      " .         stop(\"No repr_* for mimetype \", mime, \" in repr::mime2repr\")\n",
      " .     rpr <- repr::mime2repr[[mime]](obj)\n",
      " .     if (is.null(rpr)) \n",
      " .         return(NULL)\n",
      " .     prepare_content(is.raw(rpr), rpr)\n",
      " . }, error = error_handler), error = outer_handler)\n",
      "3. tryCatchList(expr, classes, parentenv, handlers)\n",
      "4. tryCatchOne(expr, names, parentenv, handlers[[1L]])\n",
      "5. doTryCatch(return(expr), name, parentenv, handler)\n",
      "6. withCallingHandlers({\n",
      " .     if (!mime %in% names(repr::mime2repr)) \n",
      " .         stop(\"No repr_* for mimetype \", mime, \" in repr::mime2repr\")\n",
      " .     rpr <- repr::mime2repr[[mime]](obj)\n",
      " .     if (is.null(rpr)) \n",
      " .         return(NULL)\n",
      " .     prepare_content(is.raw(rpr), rpr)\n",
      " . }, error = error_handler)\n",
      "7. repr::mime2repr[[mime]](obj)\n",
      "8. repr_latex.numeric(obj)\n",
      "9. repr_vector_generic(latex_escape_names(obj), \"\\\\item %s\\n\", \"\\\\item[%s] %s\\n\", \n",
      " .     \"\\\\textbf{%s:} %s\", enum_wrap = \"\\\\begin{enumerate*}\\n%s\\\\end{enumerate*}\\n\", \n",
      " .     named_wrap = \"\\\\begin{description*}\\n%s\\\\end{description*}\\n\", \n",
      " .     only_named_item = \"\\\\textbf{%s:} %s\", escape_fun = latex_escape)\n",
      "10. latex_escape_names(obj)\n",
      "11. .escape_names(obj, \"latex\")\n",
      "12. colnames(obj)\n"
     ]
    },
    {
     "data": {
      "text/html": [
       "<dl class=dl-horizontal>\n",
       "\t<dt>Y</dt>\n",
       "\t\t<dd>77.5454545454545</dd>\n",
       "\t<dt>N</dt>\n",
       "\t\t<dd>75.4795918367347</dd>\n",
       "</dl>\n"
      ],
      "text/plain": [
       "       Y        N \n",
       "77.54545 75.47959 "
      ]
     },
     "metadata": {},
     "output_type": "display_data"
    }
   ],
   "source": [
    "tapply(Pulse$Pulse1,Pulse$Smokes.factor, FUN=mean, na.rm=T)"
   ]
  },
  {
   "cell_type": "markdown",
   "metadata": {},
   "source": [
    "(c) **t-test:**\n",
    "The `t.test` function will compute a confidence interval for the mean difference and a *p*-value for a test of nonzero difference. We again employ the function argument to specify the variables"
   ]
  },
  {
   "cell_type": "code",
   "execution_count": 24,
   "metadata": {},
   "outputs": [
    {
     "data": {
      "text/plain": [
       "\n",
       "\tWelch Two Sample t-test\n",
       "\n",
       "data:  Pulse$Pulse1 by Pulse$Smokes.factor\n",
       "t = 0.64552, df = 15.022, p-value = 0.5283\n",
       "alternative hypothesis: true difference in means is not equal to 0\n",
       "95 percent confidence interval:\n",
       " -4.754562  8.886287\n",
       "sample estimates:\n",
       "mean in group Y mean in group N \n",
       "       77.54545        75.47959 \n"
      ]
     },
     "metadata": {},
     "output_type": "display_data"
    }
   ],
   "source": [
    "t.test(Pulse$Pulse1~Pulse$Smokes.factor)"
   ]
  },
  {
   "cell_type": "markdown",
   "metadata": {},
   "source": [
    "By default, a two-sided *p*-value is reported, and equal population variances are not assumed (the Smith/Welch/Satterthwaite method).\n",
    "\n",
    "The code below requests the pooled (equal variances assumed) and also requests a one-sided *p*-value:"
   ]
  },
  {
   "cell_type": "code",
   "execution_count": 26,
   "metadata": {},
   "outputs": [
    {
     "data": {
      "text/plain": [
       "\n",
       "\tTwo Sample t-test\n",
       "\n",
       "data:  Pulse$Pulse1 by Pulse$Smokes.factor\n",
       "t = 0.48684, df = 107, p-value = 0.3137\n",
       "alternative hypothesis: true difference in means is greater than 0\n",
       "95 percent confidence interval:\n",
       " -4.974943       Inf\n",
       "sample estimates:\n",
       "mean in group Y mean in group N \n",
       "       77.54545        75.47959 \n"
      ]
     },
     "metadata": {},
     "output_type": "display_data"
    }
   ],
   "source": [
    "t.test(Pulse$Pulse1 ~ Pulse$Smokes.factor, alternative = \"greater\"\n",
    "       ,var.equal = T)"
   ]
  },
  {
   "cell_type": "markdown",
   "metadata": {},
   "source": [
    "*Is there evidence that some students didn't run even though their coin toss came up heads?*\n",
    "\n",
    "*Is there evidence that fewer than 50% would be selected to run?*\n",
    "\n",
    "\n",
    "  **(a) Frequencies and proportions.**\n",
    "\n",
    "\\justifying\n",
    "The `table` function computes frequencies and crosstabs. We first create a new factor variable for the Ran variable. It will be helpful to save the result of the `table()` function as an object:"
   ]
  },
  {
   "cell_type": "code",
   "execution_count": 27,
   "metadata": {},
   "outputs": [
    {
     "data": {
      "text/plain": [
       "\n",
       " Y  N \n",
       "46 64 "
      ]
     },
     "metadata": {},
     "output_type": "display_data"
    }
   ],
   "source": [
    "Pulse$Ran.factor <- factor(Pulse$Ran, levels=c(1,2),\n",
    "                           labels=c(\"Y\", \"N\"))\n",
    "ran.counts <- table(Pulse$Ran.factor)\n",
    "ran.counts"
   ]
  },
  {
   "cell_type": "markdown",
   "metadata": {},
   "source": [
    "The `prop.table()` function uses the object containing the counts to calculate proportions:"
   ]
  },
  {
   "cell_type": "code",
   "execution_count": 28,
   "metadata": {},
   "outputs": [
    {
     "data": {
      "text/plain": [
       "\n",
       "        Y         N \n",
       "0.4181818 0.5818182 "
      ]
     },
     "metadata": {},
     "output_type": "display_data"
    }
   ],
   "source": [
    "prop.table(ran.counts)"
   ]
  },
  {
   "cell_type": "markdown",
   "metadata": {},
   "source": [
    "**(b) Test for proportion.**\n",
    "\n",
    "The `prop.test()` function, which has arguments similar to `t.test()`, can be used to compute a confidence interval for the proportion of students that ran between measurements. The function takes as arguments the number of successes and the sample size, which are calculated using the `length()` and `sum()` functions:"
   ]
  },
  {
   "cell_type": "code",
   "execution_count": 29,
   "metadata": {},
   "outputs": [
    {
     "data": {
      "text/plain": [
       "\n",
       "\t1-sample proportions test with continuity correction\n",
       "\n",
       "data:  success out of n, null probability 0.5\n",
       "X-squared = 2.6273, df = 1, p-value = 0.05252\n",
       "alternative hypothesis: true p is less than 0.5\n",
       "95 percent confidence interval:\n",
       " 0.0000000 0.5011424\n",
       "sample estimates:\n",
       "        p \n",
       "0.4181818 \n"
      ]
     },
     "metadata": {},
     "output_type": "display_data"
    }
   ],
   "source": [
    "n <- length(Pulse$Ran.factor)\n",
    "success <- sum(Pulse$Ran.factor == \"Y\")\n",
    "prop.test(success, n, alternative=\"less\")"
   ]
  },
  {
   "cell_type": "markdown",
   "metadata": {},
   "source": [
    "*Does the proportion who ran between measurements depend on year?*\n"
   ]
  },
  {
   "cell_type": "markdown",
   "metadata": {},
   "source": [
    "**(a) Crosstabs, bar charts, chi-squared test.**\n",
    "\n",
    "The `table()` function can create crosstabulations for two or more variables. Here we calculate a 2-way table of Ran by Year:"
   ]
  },
  {
   "cell_type": "code",
   "execution_count": 30,
   "metadata": {},
   "outputs": [
    {
     "data": {
      "text/plain": [
       "    \n",
       "      Y  N\n",
       "  93  8 18\n",
       "  95  9 13\n",
       "  96 11 10\n",
       "  97 11 12\n",
       "  98  7 11"
      ]
     },
     "metadata": {},
     "output_type": "display_data"
    }
   ],
   "source": [
    "Year.table<-table(Pulse$Year,Pulse$Ran.factor) \n",
    "Year.table"
   ]
  },
  {
   "cell_type": "markdown",
   "metadata": {},
   "source": [
    "As before, the `prop.table()` function can calculate proportions. For two-way tables, however, there are several different proportions possible for each cell, based on row, column or overall totals. The default is to divide counts by the overall sample size:"
   ]
  },
  {
   "cell_type": "code",
   "execution_count": 31,
   "metadata": {},
   "outputs": [
    {
     "data": {
      "text/plain": [
       "    \n",
       "              Y          N\n",
       "  93 0.07272727 0.16363636\n",
       "  95 0.08181818 0.11818182\n",
       "  96 0.10000000 0.09090909\n",
       "  97 0.10000000 0.10909091\n",
       "  98 0.06363636 0.10000000"
      ]
     },
     "metadata": {},
     "output_type": "display_data"
    }
   ],
   "source": [
    "prop.table(Year.table)"
   ]
  },
  {
   "cell_type": "markdown",
   "metadata": {},
   "source": [
    "To obtain marginal proportions, we can specify the `margin=` argument, where `1` requests row marginals (divide counts by row totals) and `2` column marginals (divide counts by column totals). For the purposes of the research question, dividing counts by Year totals would be most useful.\n",
    "\n",
    "Since Year was listed first in the `table()` function, it will be treated by R as the row variable, as thus the code below requests row marginal proportions:"
   ]
  },
  {
   "cell_type": "code",
   "execution_count": 32,
   "metadata": {},
   "outputs": [
    {
     "data": {
      "text/plain": [
       "    \n",
       "             Y         N\n",
       "  93 0.3076923 0.6923077\n",
       "  95 0.4090909 0.5909091\n",
       "  96 0.5238095 0.4761905\n",
       "  97 0.4782609 0.5217391\n",
       "  98 0.3888889 0.6111111"
      ]
     },
     "metadata": {},
     "output_type": "display_data"
    }
   ],
   "source": [
    "prop.table(Year.table,margin=1)"
   ]
  },
  {
   "cell_type": "markdown",
   "metadata": {},
   "source": [
    "**_Test for independence_**\n",
    "\n",
    "The `chisq.test()` function will compute a test for independence of Ran.factor and Year:"
   ]
  },
  {
   "cell_type": "code",
   "execution_count": 33,
   "metadata": {},
   "outputs": [
    {
     "data": {
      "text/plain": [
       "\n",
       "\tPearson's Chi-squared test\n",
       "\n",
       "data:  Year.table\n",
       "X-squared = 2.6797, df = 4, p-value = 0.6128\n"
      ]
     },
     "metadata": {},
     "output_type": "display_data"
    }
   ],
   "source": [
    "chisq.test(Year.table)"
   ]
  },
  {
   "cell_type": "markdown",
   "metadata": {},
   "source": [
    "**_Plots_**\n",
    "\n",
    "Bar charts can be useful for displaying categorical data. We first illustrate the `barplot` function for Ran.factor for just 1993."
   ]
  },
  {
   "cell_type": "code",
   "execution_count": 34,
   "metadata": {},
   "outputs": [
    {
     "data": {
      "text/plain": [
       "    \n",
       "      Y  N\n",
       "  93  8 18"
      ]
     },
     "metadata": {},
     "output_type": "display_data"
    }
   ],
   "source": [
    "Year93.table<-table(Pulse$Year[Pulse$Year==93],Pulse$Ran.factor[Pulse$Year==93])\n",
    "Year93.table"
   ]
  },
  {
   "cell_type": "code",
   "execution_count": 35,
   "metadata": {},
   "outputs": [
    {
     "data": {
      "image/png": "[encoded data removed]",
      "text/plain": [
       "plot without title"
      ]
     },
     "metadata": {},
     "output_type": "display_data"
    }
   ],
   "source": [
    "barplot(Year93.table)"
   ]
  },
  {
   "cell_type": "markdown",
   "metadata": {},
   "source": [
    "**_Side-by-side plots_**\n",
    "\n",
    "Next, side-by-side plots comparing all years are created."
   ]
  },
  {
   "cell_type": "code",
   "execution_count": 38,
   "metadata": {},
   "outputs": [
    {
     "data": {
      "text/plain": [
       "    \n",
       "      Y  N\n",
       "  93  8 18\n",
       "  95  9 13\n",
       "  96 11 10\n",
       "  97 11 12\n",
       "  98  7 11"
      ]
     },
     "metadata": {},
     "output_type": "display_data"
    },
    {
     "data": {
      "image/png": "[encoded data removed]",
      "text/plain": [
       "Plot with title “Ran(Y/N) for all\n",
       "        Years”"
      ]
     },
     "metadata": {},
     "output_type": "display_data"
    }
   ],
   "source": [
    "Year.table<-table(Pulse$Year,Pulse$Ran.factor)\n",
    "Year.table\n",
    "#r,fig.align=\"center\",size=\"tiny\",strip.white=TRUE,echo=TRUE\n",
    "barplot(Year.table,xlab=\"Ran\",ylab=\"Count\",main=\"Ran(Y/N) for all\n",
    "        Years\",beside=TRUE,col=grey.colors(5))\n",
    "legend(\"topleft\",fill =grey.colors(5),legend=rownames(Year.table))"
   ]
  },
  {
   "cell_type": "markdown",
   "metadata": {},
   "source": [
    "We will create a new categorical variable for Year 93 using the function `ifelse()` then will create a new table to compare year 1993 with other years versus Ran.factor,"
   ]
  },
  {
   "cell_type": "code",
   "execution_count": 39,
   "metadata": {},
   "outputs": [
    {
     "data": {
      "text/plain": [
       "       \n",
       "         Y  N\n",
       "  93     8 18\n",
       "  other 38 46"
      ]
     },
     "metadata": {},
     "output_type": "display_data"
    }
   ],
   "source": [
    "Pulse$Year.93 <- ifelse(Pulse$Year==93, 93, \"other\")\n",
    "Year.table.93 <-table(Pulse$Year.93, Pulse$Ran.factor)\n",
    "Year.table.93"
   ]
  },
  {
   "cell_type": "markdown",
   "metadata": {},
   "source": [
    "**_Test for independence_**\n",
    "\n",
    "Finally, the `chisq.test()` function will compute a test for independence of Ran.factor and **Year.93**:"
   ]
  },
  {
   "cell_type": "code",
   "execution_count": 40,
   "metadata": {},
   "outputs": [
    {
     "data": {
      "text/plain": [
       "\n",
       "\tPearson's Chi-squared test with Yates' continuity correction\n",
       "\n",
       "data:  Year.table.93\n",
       "X-squared = 1.1654, df = 1, p-value = 0.2803\n"
      ]
     },
     "metadata": {},
     "output_type": "display_data"
    }
   ],
   "source": [
    "chisq.test(Year.table.93)"
   ]
  },
  {
   "cell_type": "markdown",
   "metadata": {},
   "source": [
    "**_Installing packages_**\n",
    "\n",
    "While we were able to perform the desired analyses using the packages included in the Base install of R, it was somewhat tedious. There are many additional *packages* with functions tailored to specific types of analyses. For instance, the `CrossTabs` function in the `gmodels` package has the ability to do all of the analyses in this section (and more) in a single step.\n",
    "The `install.packages` function can be used to download the required package from CRAN and install the package locally. (Alternatively, choose \"Install\" within the \"Package\" tab in RStudio.) We will then have to make the package available using the `library` function.\n",
    "\n",
    "* First, install `gmodels`. \n",
    "\n",
    "`install.packages(\"gmodels\")`\n",
    "\n",
    "Note: You only need to do this one time.\n",
    "\n",
    "Then use the `library` function to make the package available for the current R session."
   ]
  },
  {
   "cell_type": "code",
   "execution_count": 42,
   "metadata": {},
   "outputs": [
    {
     "name": "stderr",
     "output_type": "stream",
     "text": [
      "also installing the dependencies ‘gtools’, ‘gdata’\n",
      "\n",
      "Updating HTML index of packages in '.Library'\n",
      "Making 'packages.html' ... done\n"
     ]
    }
   ],
   "source": [
    "library(gmodels)"
   ]
  },
  {
   "cell_type": "markdown",
   "metadata": {},
   "source": [
    "Once the `library` function is executed, any documentation associated with the `gmodels` package will be available. Searching for help as before on the `CrossTable` function reveals the following information.\n",
    "\n",
    "```\n",
    "CrossTable(x, y, digits = 3, max.width = 5, expected = FALSE,prop.r = TRUE, prop.c = TRUE, prop.t = TRUE,  prop.chisq = TRUE, chisq = FALSE, fisher = FALSE,\n",
    "           mcnemar = FALSE, resid = FALSE, sresid = FALSE,asresid = FALSE, missing.include = FALSE,format = c(\"SAS\", \"SPSS\"), dnn = NULL, ...)\n",
    "```\n",
    "\n",
    "Let's use `Crosstable` to try to create the previous results."
   ]
  },
  {
   "cell_type": "code",
   "execution_count": 43,
   "metadata": {},
   "outputs": [
    {
     "name": "stdout",
     "output_type": "stream",
     "text": [
      "\n",
      " \n",
      "   Cell Contents\n",
      "|-------------------------|\n",
      "|                       N |\n",
      "|           N / Row Total |\n",
      "|         N / Table Total |\n",
      "|-------------------------|\n",
      "\n",
      " \n",
      "Total Observations in Table:  110 \n",
      "\n",
      " \n",
      "             | Pulse$Ran \n",
      "  Pulse$Year |         1 |         2 | Row Total | \n",
      "-------------|-----------|-----------|-----------|\n",
      "          93 |         8 |        18 |        26 | \n",
      "             |     0.308 |     0.692 |     0.236 | \n",
      "             |     0.073 |     0.164 |           | \n",
      "-------------|-----------|-----------|-----------|\n",
      "          95 |         9 |        13 |        22 | \n",
      "             |     0.409 |     0.591 |     0.200 | \n",
      "             |     0.082 |     0.118 |           | \n",
      "-------------|-----------|-----------|-----------|\n",
      "          96 |        11 |        10 |        21 | \n",
      "             |     0.524 |     0.476 |     0.191 | \n",
      "             |     0.100 |     0.091 |           | \n",
      "-------------|-----------|-----------|-----------|\n",
      "          97 |        11 |        12 |        23 | \n",
      "             |     0.478 |     0.522 |     0.209 | \n",
      "             |     0.100 |     0.109 |           | \n",
      "-------------|-----------|-----------|-----------|\n",
      "          98 |         7 |        11 |        18 | \n",
      "             |     0.389 |     0.611 |     0.164 | \n",
      "             |     0.064 |     0.100 |           | \n",
      "-------------|-----------|-----------|-----------|\n",
      "Column Total |        46 |        64 |       110 | \n",
      "-------------|-----------|-----------|-----------|\n",
      "\n",
      " \n",
      "Statistics for All Table Factors\n",
      "\n",
      "\n",
      "Pearson's Chi-squared test \n",
      "------------------------------------------------------------\n",
      "Chi^2 =  2.679713     d.f. =  4     p =  0.6127693 \n",
      "\n",
      "\n",
      " \n"
     ]
    }
   ],
   "source": [
    "CrossTable(Pulse$Year, Pulse$Ran, prop.t = T, \n",
    "           prop.c = F,\tprop.chisq = F, chisq = T)"
   ]
  },
  {
   "cell_type": "markdown",
   "metadata": {},
   "source": [
    "**_CrossTable_**"
   ]
  },
  {
   "cell_type": "code",
   "execution_count": 44,
   "metadata": {},
   "outputs": [
    {
     "name": "stdout",
     "output_type": "stream",
     "text": [
      "\n",
      " \n",
      "   Cell Contents\n",
      "|-------------------------|\n",
      "|                       N |\n",
      "|           N / Row Total |\n",
      "|         N / Table Total |\n",
      "|-------------------------|\n",
      "\n",
      " \n",
      "Total Observations in Table:  110 \n",
      "\n",
      " \n",
      "              | Pulse$Ran \n",
      "Pulse$Year.93 |         1 |         2 | Row Total | \n",
      "--------------|-----------|-----------|-----------|\n",
      "           93 |         8 |        18 |        26 | \n",
      "              |     0.308 |     0.692 |     0.236 | \n",
      "              |     0.073 |     0.164 |           | \n",
      "--------------|-----------|-----------|-----------|\n",
      "        other |        38 |        46 |        84 | \n",
      "              |     0.452 |     0.548 |     0.764 | \n",
      "              |     0.345 |     0.418 |           | \n",
      "--------------|-----------|-----------|-----------|\n",
      " Column Total |        46 |        64 |       110 | \n",
      "--------------|-----------|-----------|-----------|\n",
      "\n",
      " \n",
      "Statistics for All Table Factors\n",
      "\n",
      "\n",
      "Pearson's Chi-squared test \n",
      "------------------------------------------------------------\n",
      "Chi^2 =  1.708348     d.f. =  1     p =  0.1911998 \n",
      "\n",
      "Pearson's Chi-squared test with Yates' continuity correction \n",
      "------------------------------------------------------------\n",
      "Chi^2 =  1.165422     d.f. =  1     p =  0.2803439 \n",
      "\n",
      " \n"
     ]
    }
   ],
   "source": [
    "CrossTable(Pulse$Year.93, Pulse$Ran, prop.t = T, \n",
    "           prop.c = F,\tprop.chisq = F, chisq = T)"
   ]
  },
  {
   "cell_type": "markdown",
   "metadata": {},
   "source": [
    "# You can also try something else by yourselves\n",
    "\n",
    "You can click the `+` button on the menu bar to add more cells and start typing."
   ]
  },
  {
   "cell_type": "code",
   "execution_count": null,
   "metadata": {},
   "outputs": [],
   "source": []
  },
  {
   "cell_type": "code",
   "execution_count": null,
   "metadata": {},
   "outputs": [],
   "source": []
  },
  {
   "cell_type": "code",
   "execution_count": null,
   "metadata": {},
   "outputs": [],
   "source": []
  }
 ],
 "metadata": {
  "kernelspec": {
   "display_name": "R",
   "language": "R",
   "name": "ir"
  },
  "language_info": {
   "codemirror_mode": "r",
   "file_extension": ".r",
   "mimetype": "text/x-r-source",
   "name": "R",
   "pygments_lexer": "r",
   "version": "3.4.1"
  }
 },
 "nbformat": 4,
 "nbformat_minor": 2
}
